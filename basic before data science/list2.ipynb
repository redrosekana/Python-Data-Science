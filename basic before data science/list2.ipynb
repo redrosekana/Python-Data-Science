{
 "cells": [
  {
   "cell_type": "markdown",
   "id": "cc9061c7",
   "metadata": {},
   "source": [
    "# พื้นฐาน list 2"
   ]
  },
  {
   "cell_type": "code",
   "execution_count": 2,
   "id": "f70c71e2",
   "metadata": {},
   "outputs": [],
   "source": [
    "a = [10,20,30]\n",
    "b = [40,50,60]"
   ]
  },
  {
   "cell_type": "code",
   "execution_count": 11,
   "id": "e78b2af6",
   "metadata": {},
   "outputs": [
    {
     "name": "stdout",
     "output_type": "stream",
     "text": [
      "[10, 20, 30, 40, 50, 60]\n",
      "[40, 50, 60, 10, 20, 30]\n"
     ]
    }
   ],
   "source": [
    "c = a+b\n",
    "d = b+a\n",
    "\n",
    "print(c)\n",
    "print(d)"
   ]
  },
  {
   "cell_type": "code",
   "execution_count": 12,
   "id": "08e31133",
   "metadata": {},
   "outputs": [
    {
     "name": "stdout",
     "output_type": "stream",
     "text": [
      "[10, 20, 30, 10, 20, 30]\n",
      "[40, 50, 60, 40, 50, 60]\n"
     ]
    }
   ],
   "source": [
    "e = a*2\n",
    "f = b*2\n",
    " \n",
    "print(e)\n",
    "print(f)"
   ]
  },
  {
   "cell_type": "code",
   "execution_count": 22,
   "id": "838c9654",
   "metadata": {},
   "outputs": [
    {
     "name": "stdout",
     "output_type": "stream",
     "text": [
      "False\n",
      "True\n",
      "True\n",
      "False\n"
     ]
    }
   ],
   "source": [
    "print(1 in a)\n",
    "print(10 in a)\n",
    "\n",
    "print(4 not in b)\n",
    "print(40 not in b)"
   ]
  },
  {
   "cell_type": "code",
   "execution_count": 24,
   "id": "1683f090",
   "metadata": {},
   "outputs": [
    {
     "name": "stdout",
     "output_type": "stream",
     "text": [
      "False\n",
      "True\n"
     ]
    }
   ],
   "source": [
    "print(a == b)\n",
    "print(a != b)"
   ]
  },
  {
   "cell_type": "code",
   "execution_count": 30,
   "id": "46f8bc32",
   "metadata": {},
   "outputs": [
    {
     "name": "stdout",
     "output_type": "stream",
     "text": [
      "[1, 2, 3, 4, 5, 6, 7, 8, 9, 10]\n",
      "[1, 2, 3, 4, 5]\n",
      "[3, 4, 5]\n",
      "[1, 3, 5, 7, 9]\n"
     ]
    }
   ],
   "source": [
    "tmp = [1,2,3,4,5,6,7,8,9,10]\n",
    "copy1 = tmp[0:]\n",
    "copy2 = tmp[:5]\n",
    "copy3 = tmp[2:5]\n",
    "copy4 = tmp[0:10:2]\n",
    "\n",
    "print(copy1)\n",
    "print(copy2)\n",
    "print(copy3)\n",
    "print(copy4)"
   ]
  }
 ],
 "metadata": {
  "kernelspec": {
   "display_name": "Python 3 (ipykernel)",
   "language": "python",
   "name": "python3"
  },
  "language_info": {
   "codemirror_mode": {
    "name": "ipython",
    "version": 3
   },
   "file_extension": ".py",
   "mimetype": "text/x-python",
   "name": "python",
   "nbconvert_exporter": "python",
   "pygments_lexer": "ipython3",
   "version": "3.9.12"
  }
 },
 "nbformat": 4,
 "nbformat_minor": 5
}
