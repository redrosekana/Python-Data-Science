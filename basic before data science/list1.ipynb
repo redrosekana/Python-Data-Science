{
 "cells": [
  {
   "cell_type": "markdown",
   "id": "7ac27ed0",
   "metadata": {},
   "source": [
    "# พื้นฐาน list 1\n"
   ]
  },
  {
   "cell_type": "code",
   "execution_count": 1,
   "id": "1d1ffa64",
   "metadata": {},
   "outputs": [],
   "source": [
    "a = [1,2,3,4,5]\n",
    "b = [\"one\",\"two\",\"three\"]\n",
    "c = [\"abcd\"]\n",
    "d = list()\n",
    "e = list([1,2,3,4,5])\n",
    "f = list(\"abcd\")\n"
   ]
  },
  {
   "cell_type": "code",
   "execution_count": 2,
   "id": "d3d716d2",
   "metadata": {},
   "outputs": [
    {
     "name": "stdout",
     "output_type": "stream",
     "text": [
      "[1, 2, 3, 4, 5]\n",
      "['one', 'two', 'three']\n",
      "['abcd']\n",
      "[1, 2, 3, 4, 5]\n",
      "['a', 'b', 'c', 'd']\n"
     ]
    }
   ],
   "source": [
    "print(a)\n",
    "print(b)\n",
    "print(c)\n",
    "print(e)\n",
    "print(f)\n"
   ]
  },
  {
   "cell_type": "code",
   "execution_count": 7,
   "id": "efcc8c0a",
   "metadata": {},
   "outputs": [
    {
     "name": "stdout",
     "output_type": "stream",
     "text": [
      "[1, 2, 3, 4, 5]\n",
      "len(a) =  5\n",
      "sum(a) =  15\n",
      "max(a) =  5\n",
      "min(a) =  1\n",
      "enmerate 0 1\n",
      "enmerate 1 2\n",
      "enmerate 2 3\n",
      "enmerate 3 4\n",
      "enmerate 4 5\n"
     ]
    }
   ],
   "source": [
    "print(a)\n",
    "print(\"len(a) = \",len(a))\n",
    "print(\"sum(a) = \",sum(a))\n",
    "print(\"max(a) = \",max(a))\n",
    "print(\"min(a) = \",min(a))\n",
    "for (i,v) in enumerate(a):\n",
    "    print(\"enmerate\",i,v)"
   ]
  },
  {
   "cell_type": "code",
   "execution_count": 4,
   "id": "0faf3757",
   "metadata": {},
   "outputs": [
    {
     "name": "stdout",
     "output_type": "stream",
     "text": [
      "1 3 5 7 9 \n",
      "2 4 6 8 10 "
     ]
    }
   ],
   "source": [
    "odd_num = [1,3,5,7,9]\n",
    "for i in odd_num:\n",
    "    print(i,end=\" \")\n",
    "\n",
    "print()\n",
    "\n",
    "even_num = [2,4,6,8,10]\n",
    "for i in range(len(even_num)):\n",
    "    print(even_num[i],end=\" \")\n"
   ]
  },
  {
   "cell_type": "code",
   "execution_count": 5,
   "id": "dbe1e9a2",
   "metadata": {},
   "outputs": [
    {
     "name": "stdout",
     "output_type": "stream",
     "text": [
      "hello python\n",
      "hello c++\n",
      "hello javascript\n",
      "[1, 2, 3, 4, 5]\n",
      "[30, 40, 50]\n"
     ]
    }
   ],
   "source": [
    "ex1 = [i+1 for i in range(5)]\n",
    "ex2 = [i for i in [10,20,30,40,50] if i >= 30]\n",
    "ex3 = [print(f\"hello {i}\") for i in [\"python\",\"c++\",\"javascript\"]]\n",
    "\n",
    "print(ex1)\n",
    "print(ex2)"
   ]
  }
 ],
 "metadata": {
  "kernelspec": {
   "display_name": "Python 3 (ipykernel)",
   "language": "python",
   "name": "python3"
  },
  "language_info": {
   "codemirror_mode": {
    "name": "ipython",
    "version": 3
   },
   "file_extension": ".py",
   "mimetype": "text/x-python",
   "name": "python",
   "nbconvert_exporter": "python",
   "pygments_lexer": "ipython3",
   "version": "3.9.12"
  },
  "vscode": {
   "interpreter": {
    "hash": "f08154012ddadd8e950e6e9e035c7a7b32c136e7647e9b7c77e02eb723a8bedb"
   }
  }
 },
 "nbformat": 4,
 "nbformat_minor": 5
}
