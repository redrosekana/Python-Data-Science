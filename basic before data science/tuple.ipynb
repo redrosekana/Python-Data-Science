{
 "cells": [
  {
   "cell_type": "markdown",
   "id": "7ac27ed0",
   "metadata": {},
   "source": [
    "# พื้นฐาน tiple\n",
    "- โอเปอเรเตอร์ส่วนใหญ่ใช้เหมือนกับ list\n"
   ]
  },
  {
   "cell_type": "code",
   "execution_count": 3,
   "id": "b5a1ecff",
   "metadata": {},
   "outputs": [],
   "source": [
    "a = (1,2,3,4)\n",
    "b = tuple([10,20,30])\n",
    "c = tuple(\"abc\")"
   ]
  },
  {
   "cell_type": "code",
   "execution_count": 4,
   "id": "c7495e61",
   "metadata": {},
   "outputs": [
    {
     "name": "stdout",
     "output_type": "stream",
     "text": [
      "(1, 2, 3, 4)\n",
      "(10, 20, 30)\n",
      "('a', 'b', 'c')\n"
     ]
    }
   ],
   "source": [
    "print(a)\n",
    "print(b)\n",
    "print(c)"
   ]
  },
  {
   "cell_type": "code",
   "execution_count": 5,
   "id": "bb78d5be",
   "metadata": {},
   "outputs": [
    {
     "name": "stdout",
     "output_type": "stream",
     "text": [
      "1 2 3 4 \n",
      "10 20 30 "
     ]
    }
   ],
   "source": [
    "for i in a:\n",
    "    print(i,end=\" \")\n",
    "\n",
    "print()\n",
    "\n",
    "for j in b:\n",
    "    print(j,end=\" \")"
   ]
  },
  {
   "cell_type": "code",
   "execution_count": 6,
   "id": "ed1150e5",
   "metadata": {},
   "outputs": [
    {
     "name": "stdout",
     "output_type": "stream",
     "text": [
      "2\n",
      "1\n"
     ]
    }
   ],
   "source": [
    "d = (5,10,15,20)\n",
    "if 15 in d:\n",
    "    print(d.index(15))\n",
    "    \n",
    "print(d.count(5))"
   ]
  },
  {
   "cell_type": "code",
   "execution_count": 7,
   "id": "129301c9",
   "metadata": {},
   "outputs": [
    {
     "name": "stdout",
     "output_type": "stream",
     "text": [
      "0 5\n",
      "1 10\n",
      "2 15\n",
      "3 20\n"
     ]
    }
   ],
   "source": [
    "for (i,v) in enumerate(d):\n",
    "    print(i,v)"
   ]
  }
 ],
 "metadata": {
  "kernelspec": {
   "display_name": "Python 3 (ipykernel)",
   "language": "python",
   "name": "python3"
  },
  "language_info": {
   "codemirror_mode": {
    "name": "ipython",
    "version": 3
   },
   "file_extension": ".py",
   "mimetype": "text/x-python",
   "name": "python",
   "nbconvert_exporter": "python",
   "pygments_lexer": "ipython3",
   "version": "3.9.12"
  },
  "vscode": {
   "interpreter": {
    "hash": "f08154012ddadd8e950e6e9e035c7a7b32c136e7647e9b7c77e02eb723a8bedb"
   }
  }
 },
 "nbformat": 4,
 "nbformat_minor": 5
}
