{
 "cells": [
  {
   "cell_type": "markdown",
   "id": "cc9061c7",
   "metadata": {},
   "source": [
    "# พื้นฐาน list 2"
   ]
  },
  {
   "cell_type": "code",
   "execution_count": 54,
   "id": "f70c71e2",
   "metadata": {},
   "outputs": [
    {
     "name": "stdout",
     "output_type": "stream",
     "text": [
      "[1, 2, 3, 4]\n"
     ]
    }
   ],
   "source": [
    "a = [1,2,3]\n",
    "a.append(4)\n",
    "print(a)"
   ]
  },
  {
   "cell_type": "code",
   "execution_count": 56,
   "id": "99130ba2",
   "metadata": {},
   "outputs": [
    {
     "name": "stdout",
     "output_type": "stream",
     "text": [
      "[10, 20, 30]\n",
      "[]\n"
     ]
    }
   ],
   "source": [
    "b = [10,20,30]\n",
    "b.clear()\n",
    "print(b)"
   ]
  },
  {
   "cell_type": "code",
   "execution_count": 59,
   "id": "bf9fbe9d",
   "metadata": {},
   "outputs": [
    {
     "name": "stdout",
     "output_type": "stream",
     "text": [
      "3\n",
      "4\n",
      "2\n"
     ]
    }
   ],
   "source": [
    "c = [1,3,5,5,3,3,3,1,1]\n",
    "print(c.count(1))\n",
    "print(c.count(3))\n",
    "print(c.count(5))"
   ]
  },
  {
   "cell_type": "code",
   "execution_count": 61,
   "id": "eada4d2c",
   "metadata": {},
   "outputs": [
    {
     "name": "stdout",
     "output_type": "stream",
     "text": [
      "[2, 4, 6, 8, 10]\n"
     ]
    }
   ],
   "source": [
    "d = [2,4,6]\n",
    "d.extend([8,10])\n",
    "print(d)"
   ]
  },
  {
   "cell_type": "code",
   "execution_count": 65,
   "id": "1dcd90cc",
   "metadata": {},
   "outputs": [
    {
     "name": "stdout",
     "output_type": "stream",
     "text": [
      "0\n",
      "2\n"
     ]
    }
   ],
   "source": [
    "e = [3,2,1]\n",
    "\n",
    "if (3 in e):\n",
    "    print(e.index(3))\n",
    "if (1 in e):\n",
    "    print(e.index(1))"
   ]
  },
  {
   "cell_type": "code",
   "execution_count": 69,
   "id": "1bcb6d8c",
   "metadata": {},
   "outputs": [
    {
     "name": "stdout",
     "output_type": "stream",
     "text": [
      "[1, 2, 3, 4]\n"
     ]
    }
   ],
   "source": [
    "f = [1,3,4]\n",
    "f.insert(1,2)\n",
    "print(f)"
   ]
  },
  {
   "cell_type": "code",
   "execution_count": 73,
   "id": "234473c9",
   "metadata": {},
   "outputs": [
    {
     "name": "stdout",
     "output_type": "stream",
     "text": [
      "5\n",
      "[1, 2, 3]\n"
     ]
    }
   ],
   "source": [
    "g = [1,2,3,4,5]\n",
    "tmp = g.pop()\n",
    "print(tmp)\n",
    "\n",
    "if (4 in g):\n",
    "    g.remove(4)\n",
    "print(g)"
   ]
  },
  {
   "cell_type": "code",
   "execution_count": 81,
   "id": "77034595",
   "metadata": {},
   "outputs": [
    {
     "name": "stdout",
     "output_type": "stream",
     "text": [
      "[44, 39, 25, 23, 19, 16, 4, 2, 1]\n",
      "None\n"
     ]
    }
   ],
   "source": [
    "h = [4,23,16,44,39,19,2,1,25]\n",
    "h.sort()\n",
    "h.reverse()\n",
    "print(h)\n",
    "print(n)"
   ]
  },
  {
   "cell_type": "code",
   "execution_count": 88,
   "id": "ac9c3653",
   "metadata": {},
   "outputs": [
    {
     "name": "stdout",
     "output_type": "stream",
     "text": [
      "1 2 3 \n",
      "4 5 6 \n",
      "7 8 9 \n"
     ]
    }
   ],
   "source": [
    "calculate = [[1,2,3],[4,5,6],[7,8,9]]\n",
    "\n",
    "for i in range(len(calculate)):\n",
    "    for j in range(len(calculate[i])):\n",
    "        print(calculate[i][j],end=\" \")\n",
    "    print()"
   ]
  }
 ],
 "metadata": {
  "kernelspec": {
   "display_name": "Python 3 (ipykernel)",
   "language": "python",
   "name": "python3"
  },
  "language_info": {
   "codemirror_mode": {
    "name": "ipython",
    "version": 3
   },
   "file_extension": ".py",
   "mimetype": "text/x-python",
   "name": "python",
   "nbconvert_exporter": "python",
   "pygments_lexer": "ipython3",
   "version": "3.9.12"
  }
 },
 "nbformat": 4,
 "nbformat_minor": 5
}
