{
 "cells": [
  {
   "cell_type": "markdown",
   "id": "7ac27ed0",
   "metadata": {},
   "source": [
    "# พื้นฐาน dictionary\n",
    "\n"
   ]
  },
  {
   "cell_type": "code",
   "execution_count": 4,
   "id": "dd86d3e4",
   "metadata": {},
   "outputs": [
    {
     "name": "stdout",
     "output_type": "stream",
     "text": [
      "{'th': 'thailand', 'jp': 'japan', 'en': 'english'}\n",
      "{'age': [10, 12, 14, 16, 18, 20], 'pet': {'dog': True, 'cat': False}}\n",
      "{'nw': 'norway', 'jp': 'japan', 'en': 'english'}\n"
     ]
    }
   ],
   "source": [
    "a = {\"th\":\"thailand\",\"jp\":\"japan\",\"en\":\"english\"}\n",
    "b = {\n",
    "    'age':[10,12,14,16,18,20],\n",
    "    'pet':{\n",
    "        \"dog\":True,\n",
    "        \"cat\":False\n",
    "    }\n",
    "}\n",
    "c = {\"nw\":\"norway\",\"jp\":\"japan\",\"en\":\"english\"}\n",
    "\n",
    "print(a)\n",
    "print(b)\n",
    "print(c)"
   ]
  },
  {
   "cell_type": "code",
   "execution_count": 5,
   "id": "38bd4419",
   "metadata": {},
   "outputs": [
    {
     "name": "stdout",
     "output_type": "stream",
     "text": [
      "thailand\n",
      "japan\n",
      "english\n",
      "\n",
      "[10, 12, 14, 16, 18, 20]\n",
      "{'dog': True, 'cat': False}\n"
     ]
    }
   ],
   "source": [
    "for i in a:\n",
    "    print(a[i])\n",
    "\n",
    "print()\n",
    "\n",
    "for j in b:\n",
    "    print(b[j])"
   ]
  },
  {
   "cell_type": "code",
   "execution_count": 6,
   "id": "c4423e7c",
   "metadata": {},
   "outputs": [
    {
     "name": "stdout",
     "output_type": "stream",
     "text": [
      "True\n",
      "True\n",
      "3\n",
      "2\n",
      "{'jp': 'japan', 'en': 'english'}\n"
     ]
    }
   ],
   "source": [
    "print(\"th\" in a.keys())\n",
    "print(\"thailand\" in a.values())\n",
    "print(len(a))\n",
    "print(len(b))\n",
    "\n",
    "del a[\"th\"]\n",
    "print(a)"
   ]
  },
  {
   "cell_type": "code",
   "execution_count": 7,
   "id": "bc3e87e1",
   "metadata": {},
   "outputs": [
    {
     "name": "stdout",
     "output_type": "stream",
     "text": [
      "nw jp en \n",
      "nw jp en \n",
      "norway japan english \n",
      "nw = norway jp = japan en = english \n",
      "None\n",
      "japan\n",
      "norway\n",
      "{'jp': 'japan', 'en': 'english'}\n"
     ]
    }
   ],
   "source": [
    "for i in c:\n",
    "    print(i,end=\" \")\n",
    "\n",
    "print() \n",
    "\n",
    "for i in c.keys():\n",
    "    print(i,end=\" \")\n",
    "\n",
    "print() \n",
    "\n",
    "for i in c.values():\n",
    "    print(i,end=\" \")\n",
    "    \n",
    "print() \n",
    "\n",
    "for (i,v) in c.items():\n",
    "    print(f\"{i} =\",v,end=\" \")\n",
    "\n",
    "print()\n",
    "    \n",
    "print(c.get(\"th\"))\n",
    "print(c.get(\"jp\"))\n",
    "\n",
    "if (\"jp\" in c):\n",
    "    tmp = c.pop(\"nw\")\n",
    "    print(tmp)\n",
    "\n",
    "print(c)"
   ]
  }
 ],
 "metadata": {
  "kernelspec": {
   "display_name": "Python 3 (ipykernel)",
   "language": "python",
   "name": "python3"
  },
  "language_info": {
   "codemirror_mode": {
    "name": "ipython",
    "version": 3
   },
   "file_extension": ".py",
   "mimetype": "text/x-python",
   "name": "python",
   "nbconvert_exporter": "python",
   "pygments_lexer": "ipython3",
   "version": "3.9.12"
  },
  "vscode": {
   "interpreter": {
    "hash": "f08154012ddadd8e950e6e9e035c7a7b32c136e7647e9b7c77e02eb723a8bedb"
   }
  }
 },
 "nbformat": 4,
 "nbformat_minor": 5
}
