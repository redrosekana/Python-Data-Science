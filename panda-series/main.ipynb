{
 "cells": [
  {
   "cell_type": "markdown",
   "id": "504850da",
   "metadata": {},
   "source": [
    "### การ import pandas"
   ]
  },
  {
   "cell_type": "code",
   "execution_count": 1,
   "id": "0a12e927",
   "metadata": {},
   "outputs": [],
   "source": [
    "import numpy as np\n",
    "import pandas as pd"
   ]
  },
  {
   "cell_type": "markdown",
   "id": "2b79d241",
   "metadata": {},
   "source": [
    "### การกำหนดข้อมูลให้แก่ Series\n",
    "คำสั่ง **pd.Series(data,index,name,dtype)** โดยส่วนที่จำเป็นต้องกำหนดมีแค่ data ส่วนอื่นไม่ต้องกำหนดก็ได้ใช้ค่า default  \n",
    "**dtpye** = int64 float64 object bool datetime64 timedelta"
   ]
  },
  {
   "cell_type": "markdown",
   "id": "0fd4b6c7",
   "metadata": {},
   "source": [
    "#### การกำหนดข้อมูลแบบ sequence ของ python\n",
    "- ควรกำหนดเป็นข้อมูลแบบ 1 มิติ ไม่เช่นนั้นจะทำให้ถูกซ้อนอยู่ชั้นในและถูกมองเป็นรายการเดียวกัน\n",
    "- สามารถใช้ฟังชันก์ range ก็ได้ถ้าข้อมูลต่อเนื่องกัน\n",
    "- ถ้าเป็น dictionary จะนำค่าคีย์มาเป็น index"
   ]
  },
  {
   "cell_type": "code",
   "execution_count": 31,
   "id": "ad337525",
   "metadata": {},
   "outputs": [
    {
     "data": {
      "text/plain": [
       "0    1\n",
       "1    2\n",
       "2    3\n",
       "dtype: int64"
      ]
     },
     "metadata": {},
     "output_type": "display_data"
    },
    {
     "data": {
      "text/plain": [
       "0    10\n",
       "1    20\n",
       "2    30\n",
       "dtype: int64"
      ]
     },
     "metadata": {},
     "output_type": "display_data"
    },
    {
     "data": {
      "text/plain": [
       "0    1\n",
       "1    2\n",
       "2    3\n",
       "3    4\n",
       "dtype: int64"
      ]
     },
     "metadata": {},
     "output_type": "display_data"
    },
    {
     "data": {
      "text/plain": [
       "0    100\n",
       "1    200\n",
       "2    300\n",
       "dtype: object"
      ]
     },
     "metadata": {},
     "output_type": "display_data"
    },
    {
     "data": {
      "text/plain": [
       "a    100\n",
       "b    200\n",
       "dtype: int64"
      ]
     },
     "metadata": {},
     "output_type": "display_data"
    },
    {
     "data": {
      "text/plain": [
       "1      9\n",
       "2     99\n",
       "3    999\n",
       "Name: panda, dtype: int64"
      ]
     },
     "metadata": {},
     "output_type": "display_data"
    },
    {
     "data": {
      "text/plain": [
       "0    [1, 2, 3]\n",
       "1    [4, 5, 6]\n",
       "2    [7, 8, 9]\n",
       "dtype: object"
      ]
     },
     "metadata": {},
     "output_type": "display_data"
    }
   ],
   "source": [
    "a1 = pd.Series([1,2,3]) # list\n",
    "a2 = pd.Series((10,20,30)) # tuple\n",
    "a3 = pd.Series(range(1,5)) # range\n",
    "\n",
    "tmp1 = [\"100\",\"200\",\"300\"] \n",
    "a4 = pd.Series(tmp1)\n",
    "a5 = pd.Series({\"a\":100,\"b\":200}) # dictionary\n",
    "a6 = pd.Series(data=[9,99,999],index=[1,2,3],name=\"panda\",dtype=\"int64\") # กำหนดแบบเต็ม\n",
    "a7 = pd.Series([[1,2,3],[4,5,6],[7,8,9]])\n",
    "\n",
    "display(a1,a2,a3,a4,a5,a6,a7)"
   ]
  },
  {
   "cell_type": "markdown",
   "id": "aac8383a",
   "metadata": {},
   "source": [
    "#### การกำหนดข้อมูลด้วย numpy"
   ]
  },
  {
   "cell_type": "code",
   "execution_count": 35,
   "id": "83a30be6",
   "metadata": {},
   "outputs": [
    {
     "data": {
      "text/plain": [
       "0    1\n",
       "1    2\n",
       "2    3\n",
       "dtype: int32"
      ]
     },
     "metadata": {},
     "output_type": "display_data"
    },
    {
     "data": {
      "text/plain": [
       "0    15\n",
       "1     7\n",
       "2     8\n",
       "dtype: int32"
      ]
     },
     "metadata": {},
     "output_type": "display_data"
    },
    {
     "data": {
      "text/plain": [
       "0     1\n",
       "1     4\n",
       "2     7\n",
       "3    10\n",
       "dtype: int64"
      ]
     },
     "metadata": {},
     "output_type": "display_data"
    }
   ],
   "source": [
    "n1 = np.array([1,2,3])\n",
    "n2 = np.random.randint(1,20,3)\n",
    "n3 = np.linspace(1,10,4,dtype=\"int64\")\n",
    "\n",
    "a8 = pd.Series(n1)\n",
    "a9 = pd.Series(n2)\n",
    "a10 = pd.Series(n3)\n",
    "\n",
    "display(a8,a9,a10)"
   ]
  },
  {
   "cell_type": "markdown",
   "id": "6722c8e3",
   "metadata": {},
   "source": [
    "### การกำหนด index\n",
    "- หากไม่กำหนด defalut จะเป็น 0,1,2,3,....\n",
    "- สามารถกำหนด index ได้จะเป็นสตริงหรือตัวเลขก็ได้ แต่ต้องมีค่า**เท่ากับรายการข้อมูล**"
   ]
  },
  {
   "cell_type": "code",
   "execution_count": 4,
   "id": "a1df21c2",
   "metadata": {},
   "outputs": [
    {
     "data": {
      "text/plain": [
       "10    1\n",
       "20    2\n",
       "30    3\n",
       "dtype: int64"
      ]
     },
     "metadata": {},
     "output_type": "display_data"
    },
    {
     "data": {
      "text/plain": [
       "a    100\n",
       "b    150\n",
       "c    200\n",
       "dtype: int64"
      ]
     },
     "metadata": {},
     "output_type": "display_data"
    },
    {
     "data": {
      "text/plain": [
       "x    95\n",
       "y    96\n",
       "z    97\n",
       "dtype: int64"
      ]
     },
     "metadata": {},
     "output_type": "display_data"
    }
   ],
   "source": [
    "a11 = pd.Series([1,2,3],[10,20,30])\n",
    "a12 = pd.Series([100,150,200],[\"a\",\"b\",\"c\"])\n",
    "a13 = pd.Series([95,96,97],index=list(\"xyz\"))\n",
    "display(a11,a12,a13)"
   ]
  },
  {
   "cell_type": "markdown",
   "id": "e7a8e515",
   "metadata": {},
   "source": [
    "### การเข้าถึงและอ้างอิงลำดับข้อมูล แบบปกติ\n",
    "#### แอตทริบิวต์ values และ index"
   ]
  },
  {
   "cell_type": "code",
   "execution_count": 42,
   "id": "e64ea1e4",
   "metadata": {},
   "outputs": [
    {
     "name": "stdout",
     "output_type": "stream",
     "text": [
      "RangeIndex(start=0, stop=3, step=1)\n",
      "[300 600 900]\n",
      "--------------------------------------\n",
      "Index(['x', 'y', 'z'], dtype='object')\n",
      "[200 400 600]\n"
     ]
    }
   ],
   "source": [
    "a14 = pd.Series([300,600,900])\n",
    "print(a14.index , a14.values , sep=\"\\n\")\n",
    "print(\"--------------------------------------\")\n",
    "\n",
    "a15 = pd.Series({\"x\":200,\"y\":400,\"z\":600})\n",
    "print(a15.index , a15.values , sep=\"\\n\")"
   ]
  },
  {
   "cell_type": "markdown",
   "id": "68be98ec",
   "metadata": {},
   "source": [
    "#### หากต้องการอ้างถึงค่ารายการในลำดับ มีทางเลือกดังนี้\n",
    "- ระบุ index แบบลิสหรืออาร์เรย์\n",
    "- ระบุด้วยชื่อ index\n",
    "- ถ้าหากว่ากำหนด index ด้วย ค่าตัวเลขจำนวนเต็ม ตอนอ้างถึงก็ต้องใช้ลำดับที่สร้างขึ้น ห้ามใช้ค่า defalut 0,1,2,3....."
   ]
  },
  {
   "cell_type": "code",
   "execution_count": 49,
   "id": "768c9371",
   "metadata": {},
   "outputs": [
    {
     "name": "stdout",
     "output_type": "stream",
     "text": [
      "300 600 900\n",
      "300 600 900\n",
      "------------------------------\n",
      "200 400 600\n",
      "200 400 600\n",
      "200 400 600\n",
      "200 400 400\n"
     ]
    }
   ],
   "source": [
    "print(a14[0],a14[1],a14[2]) # อย่าลืมกรณีใน bullet point ที่ 3\n",
    "print(a14.values[0],a14.values[1],a14.values[2])\n",
    "print(\"------------------------------\")\n",
    "\n",
    "print(a15[0],a15[1],a15[2])\n",
    "print(a15.values[0],a15.values[1],a15.values[2])\n",
    "print(a15[\"x\"],a15[\"y\"],a15[\"z\"])\n",
    "print(a15.x,a15.y,a15.y)"
   ]
  },
  {
   "cell_type": "markdown",
   "id": "db37d520",
   "metadata": {},
   "source": [
    "#### หากต้องการอ่านค่า index"
   ]
  },
  {
   "cell_type": "code",
   "execution_count": 48,
   "id": "01f9d944",
   "metadata": {},
   "outputs": [
    {
     "name": "stdout",
     "output_type": "stream",
     "text": [
      "RangeIndex(start=0, stop=3, step=1)\n",
      "0 1 2\n",
      "------------------------------\n",
      "Index(['x', 'y', 'z'], dtype='object')\n",
      "x y z\n"
     ]
    }
   ],
   "source": [
    "print(a14.index)\n",
    "print(a14.index[0],a14.index[1],a14.index[2])\n",
    "print(\"------------------------------\")\n",
    "\n",
    "print(a15.index)\n",
    "print(a15.index[0],a15.index[1],a15.index[2])"
   ]
  },
  {
   "cell_type": "markdown",
   "id": "a4bbc5f1",
   "metadata": {},
   "source": [
    "### การอ้างสมาชิกแบบ Fancy Index\n",
    "- คล้ายกับที่กำหนดใน numpy"
   ]
  },
  {
   "cell_type": "code",
   "execution_count": 64,
   "id": "ab97f3b6",
   "metadata": {},
   "outputs": [
    {
     "data": {
      "text/plain": [
       "0    14\n",
       "1     4\n",
       "2    10\n",
       "3    18\n",
       "4     4\n",
       "dtype: int32"
      ]
     },
     "metadata": {},
     "output_type": "display_data"
    },
    {
     "data": {
      "text/plain": [
       "1     4\n",
       "2    10\n",
       "dtype: int32"
      ]
     },
     "metadata": {},
     "output_type": "display_data"
    },
    {
     "name": "stdout",
     "output_type": "stream",
     "text": [
      "------------------------------\n"
     ]
    },
    {
     "data": {
      "text/plain": [
       "a    11\n",
       "b    55\n",
       "c    44\n",
       "d    44\n",
       "e    55\n",
       "dtype: int32"
      ]
     },
     "metadata": {},
     "output_type": "display_data"
    },
    {
     "data": {
      "text/plain": [
       "d    44\n",
       "e    55\n",
       "dtype: int32"
      ]
     },
     "metadata": {},
     "output_type": "display_data"
    },
    {
     "name": "stdout",
     "output_type": "stream",
     "text": [
      "a    11\n",
      "dtype: int32\n"
     ]
    }
   ],
   "source": [
    "n4 = np.random.randint(1,20,5)\n",
    "a16 = pd.Series(n4)\n",
    "display(a16 , a16[[1,2]])\n",
    "print(\"------------------------------\")\n",
    "\n",
    "n5 = np.random.choice([11,22,33,44,55],5)\n",
    "a17 = pd.Series(n5,list(\"abcde\"))\n",
    "display(a17 , a17[[\"d\",\"e\"]])"
   ]
  },
  {
   "cell_type": "markdown",
   "id": "6151b9cf",
   "metadata": {},
   "source": [
    "### การอ้างถึงสมาชิกแบบ Index Slicing\n",
    "- อ้างอิงลำดับแบบไม่มีการกำหนด index **start:stop:step โดยตัวสุดท้ายจะไม่ถึงตัว stop**\n",
    "- อ้างอิงลำดับแบบมีการกำหนด index **start:stop:step โดยตัวสุดท้ายจะถึงตัว stop**"
   ]
  },
  {
   "cell_type": "code",
   "execution_count": 9,
   "id": "25b7d935",
   "metadata": {},
   "outputs": [
    {
     "data": {
      "text/plain": [
       "0    57\n",
       "1    45\n",
       "2    39\n",
       "3     3\n",
       "4    64\n",
       "5    98\n",
       "6    90\n",
       "7    62\n",
       "8    82\n",
       "9    98\n",
       "dtype: int32"
      ]
     },
     "metadata": {},
     "output_type": "display_data"
    },
    {
     "data": {
      "text/plain": [
       "0    57\n",
       "1    45\n",
       "2    39\n",
       "3     3\n",
       "4    64\n",
       "dtype: int32"
      ]
     },
     "metadata": {},
     "output_type": "display_data"
    },
    {
     "data": {
      "text/plain": [
       "1    45\n",
       "4    64\n",
       "7    62\n",
       "dtype: int32"
      ]
     },
     "metadata": {},
     "output_type": "display_data"
    },
    {
     "data": {
      "text/plain": [
       "9    98\n",
       "8    82\n",
       "7    62\n",
       "6    90\n",
       "dtype: int32"
      ]
     },
     "metadata": {},
     "output_type": "display_data"
    }
   ],
   "source": [
    "a18 = pd.Series(np.random.randint(1,100,10))\n",
    "display(a18 , a18[0:5] , a18[1:10:3] , a18[-1:-5:-1])"
   ]
  },
  {
   "cell_type": "code",
   "execution_count": 66,
   "id": "904bbc05",
   "metadata": {},
   "outputs": [
    {
     "data": {
      "text/plain": [
       "a     2\n",
       "b    52\n",
       "c    99\n",
       "d    10\n",
       "e    36\n",
       "dtype: int32"
      ]
     },
     "metadata": {},
     "output_type": "display_data"
    },
    {
     "data": {
      "text/plain": [
       "a     2\n",
       "b    52\n",
       "dtype: int32"
      ]
     },
     "metadata": {},
     "output_type": "display_data"
    },
    {
     "data": {
      "text/plain": [
       "a     2\n",
       "c    99\n",
       "e    36\n",
       "dtype: int32"
      ]
     },
     "metadata": {},
     "output_type": "display_data"
    },
    {
     "data": {
      "text/plain": [
       "b    52\n",
       "c    99\n",
       "d    10\n",
       "dtype: int32"
      ]
     },
     "metadata": {},
     "output_type": "display_data"
    },
    {
     "data": {
      "text/plain": [
       "e    36\n",
       "d    10\n",
       "c    99\n",
       "b    52\n",
       "dtype: int32"
      ]
     },
     "metadata": {},
     "output_type": "display_data"
    }
   ],
   "source": [
    "a18 = pd.Series(np.random.randint(1,100,5),list(\"abcde\"))\n",
    "display(a18 , a18[\"a\":\"b\"] , a18[\"a\"::2] , a18[\"b\":\"d\"] , a18[\"e\":\"b\":-1])"
   ]
  },
  {
   "cell_type": "markdown",
   "id": "9b6324ed",
   "metadata": {},
   "source": [
    "### การกำหนดช่วงลำดับแบบ loc\n",
    "- **Position Index** คือลำดับแบบ 0,1,2,3... เมื่อเราสร้างออบเจ็กต์ Series ก็จะมี Index ประเภทนี้อัตโนมัต ถึงแม้จะกำหนด index ใหม่ ก็ยังสามารถอ้างอิงด้วย ลำดับแบบ 0,1,2,3... ได้\n",
    "- **Label Index** คือที่เรากำหนดลำดับอ้างอิงใหม่"
   ]
  },
  {
   "cell_type": "markdown",
   "id": "c00d3d67",
   "metadata": {},
   "source": [
    "**สังเกตุว่า** เมื่อเราสร้าง Series พร้อมกำหนดตัวเลขแบบ label index จากนั้นอ้างสมาชิกแบบ index slicing มันจะพิจารณาตามเลข position index"
   ]
  },
  {
   "cell_type": "code",
   "execution_count": 11,
   "id": "8f9a7010",
   "metadata": {},
   "outputs": [
    {
     "data": {
      "text/plain": [
       "1    22\n",
       "3    44\n",
       "5    66\n",
       "7    88\n",
       "9    99\n",
       "dtype: int32"
      ]
     },
     "metadata": {},
     "output_type": "display_data"
    },
    {
     "data": {
      "text/plain": [
       "7    88\n",
       "9    99\n",
       "dtype: int32"
      ]
     },
     "metadata": {},
     "output_type": "display_data"
    }
   ],
   "source": [
    "a19 = pd.Series(np.array([22,44,66,88,99]),[1,3,5,7,9])\n",
    "display(a19,a19[3:10])"
   ]
  },
  {
   "cell_type": "markdown",
   "id": "2356a56e",
   "metadata": {},
   "source": [
    "โอเปอเรเตอร์ **loc** ใช้ในการระบุช่วงแบบ label index\n",
    "- อ้างอิงลำดับแบบมีการกำหนด index **start:stop:step โดยตัวสุดท้ายจะถึงตัว stop**\n",
    "- กรณี index เป็นอักขระไม่จำเป็นต้องใช้ loc ก็ได้ ดังหัวข้อที่แล้ว"
   ]
  },
  {
   "cell_type": "code",
   "execution_count": 116,
   "id": "76446590",
   "metadata": {},
   "outputs": [
    {
     "data": {
      "text/plain": [
       "22"
      ]
     },
     "metadata": {},
     "output_type": "display_data"
    },
    {
     "data": {
      "text/plain": [
       "44"
      ]
     },
     "metadata": {},
     "output_type": "display_data"
    },
    {
     "data": {
      "text/plain": [
       "3    44\n",
       "5    66\n",
       "7    88\n",
       "9    99\n",
       "dtype: int32"
      ]
     },
     "metadata": {},
     "output_type": "display_data"
    },
    {
     "data": {
      "text/plain": [
       "1    22\n",
       "7    88\n",
       "9    99\n",
       "dtype: int32"
      ]
     },
     "metadata": {},
     "output_type": "display_data"
    }
   ],
   "source": [
    "display(a19.loc[1],a19.loc[3],a19.loc[3:9],a19.loc[[1,7,9]])"
   ]
  },
  {
   "cell_type": "markdown",
   "id": "67ee6bd0",
   "metadata": {},
   "source": [
    "### ตัวอย่างไว้เพื่อทวนการอ้างถึง"
   ]
  },
  {
   "cell_type": "code",
   "execution_count": 98,
   "id": "7796439e",
   "metadata": {},
   "outputs": [
    {
     "data": {
      "text/plain": [
       "0    10\n",
       "1    20\n",
       "2    30\n",
       "3    40\n",
       "4    50\n",
       "dtype: int32"
      ]
     },
     "metadata": {},
     "output_type": "display_data"
    },
    {
     "data": {
      "text/plain": [
       "50"
      ]
     },
     "metadata": {},
     "output_type": "display_data"
    },
    {
     "data": {
      "text/plain": [
       "1    20\n",
       "3    40\n",
       "dtype: int32"
      ]
     },
     "metadata": {},
     "output_type": "display_data"
    },
    {
     "data": {
      "text/plain": [
       "3    40\n",
       "dtype: int32"
      ]
     },
     "metadata": {},
     "output_type": "display_data"
    },
    {
     "data": {
      "text/plain": [
       "40"
      ]
     },
     "metadata": {},
     "output_type": "display_data"
    }
   ],
   "source": [
    "ex1 = pd.Series(np.array([10,20,30,40,50]))\n",
    "display(ex1 , ex1[4] , ex1[[1,3]] ,ex1[3:4] , ex1.loc[3])"
   ]
  },
  {
   "cell_type": "code",
   "execution_count": 201,
   "id": "cf79a5c2",
   "metadata": {},
   "outputs": [
    {
     "data": {
      "text/plain": [
       "10    10\n",
       "20    20\n",
       "30    30\n",
       "40    40\n",
       "50    50\n",
       "dtype: int32"
      ]
     },
     "metadata": {},
     "output_type": "display_data"
    },
    {
     "data": {
      "text/plain": [
       "10"
      ]
     },
     "metadata": {},
     "output_type": "display_data"
    },
    {
     "data": {
      "text/plain": [
       "10    10\n",
       "30    30\n",
       "dtype: int32"
      ]
     },
     "metadata": {},
     "output_type": "display_data"
    },
    {
     "data": {
      "text/plain": [
       "10    10\n",
       "20    20\n",
       "30    30\n",
       "dtype: int32"
      ]
     },
     "metadata": {},
     "output_type": "display_data"
    }
   ],
   "source": [
    "ex3 = pd.Series(np.array([10,20,30,40,50]),index=[\"10\",\"20\",\"30\",\"40\",\"50\"])\n",
    "# display(ex2 , ex2[4] , ex2[[1,3]] , ex2[3:4] , ex2.loc[[\"10\",\"20\"]] , ex2.loc[\"10\"::3] , ex2.loc[\"30\"])\n",
    "display(ex2 , ex2[\"10\"] , ex2[[\"10\",\"30\"]] , ex2[\"10\":\"30\"])"
   ]
  },
  {
   "cell_type": "code",
   "execution_count": 203,
   "id": "775a94ee",
   "metadata": {},
   "outputs": [
    {
     "data": {
      "text/plain": [
       "one      10\n",
       "two      20\n",
       "three    30\n",
       "four     40\n",
       "five     50\n",
       "dtype: int32"
      ]
     },
     "metadata": {},
     "output_type": "display_data"
    },
    {
     "data": {
      "text/plain": [
       "50"
      ]
     },
     "metadata": {},
     "output_type": "display_data"
    },
    {
     "data": {
      "text/plain": [
       "two     20\n",
       "four    40\n",
       "dtype: int32"
      ]
     },
     "metadata": {},
     "output_type": "display_data"
    },
    {
     "data": {
      "text/plain": [
       "four    40\n",
       "dtype: int32"
      ]
     },
     "metadata": {},
     "output_type": "display_data"
    },
    {
     "data": {
      "text/plain": [
       "one    10\n",
       "two    20\n",
       "dtype: int32"
      ]
     },
     "metadata": {},
     "output_type": "display_data"
    },
    {
     "data": {
      "text/plain": [
       "one     10\n",
       "four    40\n",
       "dtype: int32"
      ]
     },
     "metadata": {},
     "output_type": "display_data"
    },
    {
     "data": {
      "text/plain": [
       "50"
      ]
     },
     "metadata": {},
     "output_type": "display_data"
    }
   ],
   "source": [
    "ex3 = pd.Series(np.array([10,20,30,40,50]),index=[\"one\",\"two\",\"three\",\"four\",\"five\"])\n",
    "display(ex3 , ex3[4] , ex3[[1,3]] , ex3[3:4] , ex3.loc[[\"one\",\"two\"]] , ex3.loc[\"one\"::3] , ex3.loc[\"five\"])\n",
    "# display(ex3 , ex3[\"one\"] , ex3[[\"two\",\"three\"]] , ex3[\"one\":\"three\"] )\n",
    "# display(ex3 , ex3.one , ex3[[\"two\",\"three\"]] , ex3[\"one\":\"three\"] )"
   ]
  },
  {
   "cell_type": "code",
   "execution_count": 241,
   "id": "c0672aef",
   "metadata": {},
   "outputs": [
    {
     "data": {
      "text/plain": [
       "10    10\n",
       "20    20\n",
       "30    30\n",
       "40    40\n",
       "50    50\n",
       "dtype: int32"
      ]
     },
     "metadata": {},
     "output_type": "display_data"
    },
    {
     "data": {
      "text/plain": [
       "10"
      ]
     },
     "metadata": {},
     "output_type": "display_data"
    },
    {
     "data": {
      "text/plain": [
       "10    10\n",
       "40    40\n",
       "dtype: int32"
      ]
     },
     "metadata": {},
     "output_type": "display_data"
    },
    {
     "data": {
      "text/plain": [
       "10    10\n",
       "20    20\n",
       "30    30\n",
       "40    40\n",
       "50    50\n",
       "dtype: int32"
      ]
     },
     "metadata": {},
     "output_type": "display_data"
    },
    {
     "data": {
      "text/plain": [
       "10    10\n",
       "40    40\n",
       "dtype: int32"
      ]
     },
     "metadata": {},
     "output_type": "display_data"
    },
    {
     "data": {
      "text/plain": [
       "10    10\n",
       "20    20\n",
       "30    30\n",
       "dtype: int32"
      ]
     },
     "metadata": {},
     "output_type": "display_data"
    },
    {
     "data": {
      "text/plain": [
       "20"
      ]
     },
     "metadata": {},
     "output_type": "display_data"
    }
   ],
   "source": [
    "ex4 = pd.Series(np.array([10,20,30,40,50]),index=[10,20,30,40,50])\n",
    "display(ex4 , ex4[10] , ex4[[10,40]] , ex4[0:10] , ex4.loc[[10,40]] , ex4.loc[10:30] , ex4.loc[20])\n",
    "# display(ex4 , ex4.iloc[1] , ex4.iloc[[2,3]] , ex4.iloc[1:3])"
   ]
  },
  {
   "cell_type": "markdown",
   "id": "f6f2489e",
   "metadata": {},
   "source": [
    "### การจัดการข้อมูลด้วยโอเปอเรเตอร์\n",
    "- (+ - * ** / // %) ดำเนินเกี่ยวกับค่าคงที่ หรือ series ด้วยกันเองก็ได้\n",
    "- การดำเนินการระหว่าง series จะเกิดขึ้นเฉพาะรายการที่มี index ตรงกันเท่านั้น (หากเป็นอักขระต้องเขียนในรูปแบบพิมพ์เดียวกัน)\n",
    "- การเรียงลำดับ index ไม่จำเป็นต้องตรงกัน\n",
    "- รายการที่กำหนด index ไม่ตรงกันรายการนั้นจะได้ค่า NaN"
   ]
  },
  {
   "cell_type": "code",
   "execution_count": 13,
   "id": "3bae9b4b",
   "metadata": {},
   "outputs": [
    {
     "data": {
      "text/plain": [
       "a    18\n",
       "b    95\n",
       "c    21\n",
       "dtype: int32"
      ]
     },
     "metadata": {},
     "output_type": "display_data"
    },
    {
     "data": {
      "text/plain": [
       "a     28\n",
       "b    105\n",
       "c     31\n",
       "dtype: int32"
      ]
     },
     "metadata": {},
     "output_type": "display_data"
    },
    {
     "data": {
      "text/plain": [
       "a     9\n",
       "b    47\n",
       "c    10\n",
       "dtype: int32"
      ]
     },
     "metadata": {},
     "output_type": "display_data"
    },
    {
     "name": "stdout",
     "output_type": "stream",
     "text": [
      "------------------------------\n"
     ]
    },
    {
     "data": {
      "text/plain": [
       "a    66\n",
       "b    29\n",
       "c    43\n",
       "dtype: int32"
      ]
     },
     "metadata": {},
     "output_type": "display_data"
    },
    {
     "data": {
      "text/plain": [
       "c    74\n",
       "b    25\n",
       "a    17\n",
       "dtype: int32"
      ]
     },
     "metadata": {},
     "output_type": "display_data"
    },
    {
     "data": {
      "text/plain": [
       "a     83\n",
       "b     54\n",
       "c    117\n",
       "dtype: int32"
      ]
     },
     "metadata": {},
     "output_type": "display_data"
    },
    {
     "name": "stdout",
     "output_type": "stream",
     "text": [
      "------------------------------\n"
     ]
    },
    {
     "data": {
      "text/plain": [
       "c    74\n",
       "b    25\n",
       "a    17\n",
       "dtype: int32"
      ]
     },
     "metadata": {},
     "output_type": "display_data"
    },
    {
     "data": {
      "text/plain": [
       "z    17\n",
       "b    41\n",
       "a    54\n",
       "dtype: int32"
      ]
     },
     "metadata": {},
     "output_type": "display_data"
    },
    {
     "data": {
      "text/plain": [
       "a    71.0\n",
       "b    66.0\n",
       "c     NaN\n",
       "z     NaN\n",
       "dtype: float64"
      ]
     },
     "metadata": {},
     "output_type": "display_data"
    }
   ],
   "source": [
    "a20 = pd.Series(np.random.randint(10,100,3),list(\"abc\"))\n",
    "a21 = pd.Series(np.random.randint(10,100,3),list(\"abc\"))\n",
    "a22 = pd.Series(np.random.randint(10,100,3),list(\"cba\"))\n",
    "a23 = pd.Series(np.random.randint(10,100,3),list(\"zba\"))\n",
    "\n",
    "display(a20 , a20+10 , a20//2)\n",
    "print(\"------------------------------\")\n",
    "display(a21 , a22 , a21+a22)\n",
    "print(\"------------------------------\")\n",
    "display(a22 , a23 , a22+a23)"
   ]
  },
  {
   "cell_type": "code",
   "execution_count": 14,
   "id": "ba54f713",
   "metadata": {},
   "outputs": [
    {
     "data": {
      "text/plain": [
       "0    79\n",
       "1    25\n",
       "2    29\n",
       "dtype: int32"
      ]
     },
     "metadata": {},
     "output_type": "display_data"
    },
    {
     "data": {
      "text/plain": [
       "0    89\n",
       "1    35\n",
       "2    39\n",
       "dtype: int32"
      ]
     },
     "metadata": {},
     "output_type": "display_data"
    },
    {
     "data": {
      "text/plain": [
       "0    39\n",
       "1    12\n",
       "2    14\n",
       "dtype: int32"
      ]
     },
     "metadata": {},
     "output_type": "display_data"
    },
    {
     "name": "stdout",
     "output_type": "stream",
     "text": [
      "------------------------------\n"
     ]
    },
    {
     "data": {
      "text/plain": [
       "0    97\n",
       "1    42\n",
       "2    34\n",
       "dtype: int32"
      ]
     },
     "metadata": {},
     "output_type": "display_data"
    },
    {
     "data": {
      "text/plain": [
       "0    21\n",
       "1    72\n",
       "2    51\n",
       "dtype: int32"
      ]
     },
     "metadata": {},
     "output_type": "display_data"
    },
    {
     "data": {
      "text/plain": [
       "0    118\n",
       "1    114\n",
       "2     85\n",
       "dtype: int32"
      ]
     },
     "metadata": {},
     "output_type": "display_data"
    }
   ],
   "source": [
    "a24 = pd.Series(np.random.randint(10,100,3))\n",
    "a25 = pd.Series(np.random.randint(10,100,3))\n",
    "a26 = pd.Series(np.random.randint(10,100,3))\n",
    "\n",
    "display(a24 , a24+10 , a24//2)\n",
    "print(\"------------------------------\")\n",
    "display(a25 , a26 , a25+a26)"
   ]
  },
  {
   "cell_type": "code",
   "execution_count": 216,
   "id": "9ee8c6c7",
   "metadata": {},
   "outputs": [
    {
     "data": {
      "text/plain": [
       "0    45\n",
       "1    32\n",
       "2    17\n",
       "3    18\n",
       "4    29\n",
       "5    45\n",
       "6    37\n",
       "7    18\n",
       "8    18\n",
       "9    95\n",
       "dtype: int32"
      ]
     },
     "metadata": {},
     "output_type": "display_data"
    },
    {
     "data": {
      "text/plain": [
       "9    95\n",
       "dtype: int32"
      ]
     },
     "metadata": {},
     "output_type": "display_data"
    },
    {
     "data": {
      "text/plain": [
       "9    95\n",
       "dtype: int32"
      ]
     },
     "metadata": {},
     "output_type": "display_data"
    },
    {
     "data": {
      "text/plain": [
       "2    17\n",
       "3    18\n",
       "7    18\n",
       "8    18\n",
       "9    95\n",
       "dtype: int32"
      ]
     },
     "metadata": {},
     "output_type": "display_data"
    }
   ],
   "source": [
    "a27 = pd.Series(np.random.randint(1,100,10))\n",
    "a28 = a27[a27 > 50]\n",
    "a29 = a27[(a27 > 50) & (a27 % 5 == 0)]\n",
    "a30 = a27[(a27 < 20) | (a27 > 80)]\n",
    "display(a27,a28,a29,a30)"
   ]
  },
  {
   "cell_type": "markdown",
   "id": "ba3a521a",
   "metadata": {},
   "source": [
    "### ฟังชันก์ที่น่าสนใจขอบอ็อบเจ็ค Series\n",
    "- **sum** หาผลรวมของสมาชิกทั้งหมด"
   ]
  },
  {
   "cell_type": "code",
   "execution_count": 16,
   "id": "7cee1e73",
   "metadata": {},
   "outputs": [
    {
     "data": {
      "text/plain": [
       "0    1\n",
       "1    2\n",
       "2    3\n",
       "3    4\n",
       "4    5\n",
       "dtype: int32"
      ]
     },
     "metadata": {},
     "output_type": "display_data"
    },
    {
     "name": "stdout",
     "output_type": "stream",
     "text": [
      "sum = 15\n"
     ]
    }
   ],
   "source": [
    "a31 = pd.Series(np.array((1,2,3,4,5)))\n",
    "display(a31)\n",
    "print(\"sum =\",a31.sum())"
   ]
  },
  {
   "cell_type": "markdown",
   "id": "7e6eb2ca",
   "metadata": {},
   "source": [
    "- **count**   นับจำนวนรายการข้อมูลทั้งหมด (ไม่นับ NaN)\n",
    "- **size**    นับจำนวนรายการข้อมูลทั้งหมด (นับ NaN)\n",
    "- **std**     หาส่วนเบี่ยงเบนมาตราฐาน\n",
    "- **mean**    หาค่าเฉลี่ยของข้อมูล\n",
    "- **min**     หาค่าน้อยสุด\n",
    "- **max**     หาค่ามากสุด\n",
    "- **describe**ใช้แสดงค่าพื้นฐานทางสถิติ หรือเทียบเท่าการใช้งานคำสั่งด้านบน"
   ]
  },
  {
   "cell_type": "code",
   "execution_count": 17,
   "id": "6756a3fd",
   "metadata": {},
   "outputs": [
    {
     "name": "stdout",
     "output_type": "stream",
     "text": [
      "0     2\n",
      "1     4\n",
      "2     6\n",
      "3     8\n",
      "4    10\n",
      "dtype: int32\n",
      "\n",
      "count = 5\n",
      "mean = 6.0\n",
      "std = 3.1622776601683795\n",
      "min = 2\n",
      "max = 10\n",
      "\n",
      "count     5.000000\n",
      "mean      6.000000\n",
      "std       3.162278\n",
      "min       2.000000\n",
      "25%       4.000000\n",
      "50%       6.000000\n",
      "75%       8.000000\n",
      "max      10.000000\n",
      "dtype: float64\n"
     ]
    }
   ],
   "source": [
    "a31 = pd.Series(np.array([2,4,6,8,10]))\n",
    "print(a31,end=\"\\n\\n\")\n",
    "print(\"count =\" , a31.count())\n",
    "print(\"mean =\" , a31.mean())\n",
    "print(\"std =\" , a31.std())\n",
    "print(\"min =\" , a31.min())\n",
    "print(\"max =\" , a31.max())\n",
    "print()\n",
    "print(a31.describe())"
   ]
  },
  {
   "cell_type": "markdown",
   "id": "e04e40e1",
   "metadata": {},
   "source": [
    "- **idxmin**   แสดง index ของข้อมูลน้อยสุด\n",
    "- **idxmax**   แสดง index ของข้อมูลมากสุด"
   ]
  },
  {
   "cell_type": "code",
   "execution_count": 219,
   "id": "7547bc66",
   "metadata": {},
   "outputs": [
    {
     "name": "stdout",
     "output_type": "stream",
     "text": [
      "index min =  3\n",
      "index max =  1\n"
     ]
    }
   ],
   "source": [
    "a32 = pd.Series(np.array([9,65,32,3,4]))\n",
    "print(\"index min = \",a32.idxmin())\n",
    "print(\"index max = \",a32.idxmax())"
   ]
  },
  {
   "cell_type": "markdown",
   "id": "f64bc086",
   "metadata": {},
   "source": [
    "- **any**   ใช้ตรวจสอบข้อมูลทั้งหมด ที่ตรงเงื่อนไข  คืนค่าเป็น true/false\n",
    "- **all**   ใช้ตรวจสอบข้อมูลบางส่วน ที่ตรงเงื่อนไข คืนค่าเป็น true/false"
   ]
  },
  {
   "cell_type": "code",
   "execution_count": 19,
   "id": "1956d5ac",
   "metadata": {},
   "outputs": [
    {
     "data": {
      "text/plain": [
       "0    55\n",
       "1     2\n",
       "2    36\n",
       "3    40\n",
       "4     5\n",
       "dtype: int32"
      ]
     },
     "metadata": {},
     "output_type": "display_data"
    },
    {
     "data": {
      "text/plain": [
       "False"
      ]
     },
     "metadata": {},
     "output_type": "display_data"
    },
    {
     "data": {
      "text/plain": [
       "True"
      ]
     },
     "metadata": {},
     "output_type": "display_data"
    }
   ],
   "source": [
    "a33 = pd.Series(np.random.randint(1,101,5))\n",
    "display(a33 , (a33 > 20).all() , (a33 > 20).any())"
   ]
  },
  {
   "cell_type": "markdown",
   "id": "40c4031c",
   "metadata": {},
   "source": [
    "- **concat** ใช้ผนวกข้อมูลระหว่าง 2 Series มาเชื่อมด้วยกัน\n",
    "- **หมายเหตุ** append จะถูกนำออกใน pandas เวอชันต่อไป"
   ]
  },
  {
   "cell_type": "code",
   "execution_count": 221,
   "id": "b0674326",
   "metadata": {},
   "outputs": [
    {
     "name": "stdout",
     "output_type": "stream",
     "text": [
      "a    1\n",
      "b    2\n",
      "c    3\n",
      "d    4\n",
      "e    5\n",
      "f    6\n",
      "dtype: int32\n"
     ]
    }
   ],
   "source": [
    "a34 = pd.Series(np.array([1,2,3]),list(\"abc\"))\n",
    "a35 = pd.Series(np.array([4,5,6]),list(\"def\"))\n",
    "a36 = pd.concat([a34,a35])\n",
    "print(a36)"
   ]
  },
  {
   "cell_type": "markdown",
   "id": "264cd744",
   "metadata": {},
   "source": [
    "- **apply** สร้างฟังชันก์แล้วเรียกขึ้นมาทำงาน เพื่อจัดการข้อมูลทีละรายการ\n"
   ]
  },
  {
   "cell_type": "code",
   "execution_count": 222,
   "id": "6447ee0e",
   "metadata": {},
   "outputs": [
    {
     "data": {
      "text/plain": [
       "0   -42\n",
       "1   -39\n",
       "2    70\n",
       "3    -8\n",
       "4   -43\n",
       "dtype: int32"
      ]
     },
     "metadata": {},
     "output_type": "display_data"
    },
    {
     "data": {
      "text/plain": [
       "0    42\n",
       "1    39\n",
       "2    70\n",
       "3     8\n",
       "4    43\n",
       "dtype: int64"
      ]
     },
     "metadata": {},
     "output_type": "display_data"
    }
   ],
   "source": [
    "def func(x):\n",
    "    return x*(-1) if x < 0 else x\n",
    "\n",
    "a37 = pd.Series(np.random.randint(-101,101,5))\n",
    "a38 = a37.apply(func)\n",
    "display(a37,a38)"
   ]
  },
  {
   "cell_type": "markdown",
   "id": "dbf6c84b",
   "metadata": {},
   "source": [
    "- **unique**   เลือกรายการข้อมูลไม่ซ้ำกัน ได้ผลลัพธ์แบบลิส\n",
    "- **nunique**    นับจำนวนรายการข้อมูลแบบไม่ซ้ำกัน (ถ้าซ้ำกันนับแค่ครั้งเดียว)\n",
    "- **is_unique**  ตรวจสอบว่าข้อมูลที่ไม่ซ้ำกันหรือไม่ ถ้าไม่มีจะคืนค่า True\n",
    "- **value_counts**  นับจำนวนรายการที่ซ้ำกันว่ามีอย่างละกี่รายการ เสมือนการจัดกลุ่มข้อมูลที่ซ้ำกัน"
   ]
  },
  {
   "cell_type": "code",
   "execution_count": 22,
   "id": "99d24fe5",
   "metadata": {},
   "outputs": [
    {
     "data": {
      "text/plain": [
       "array([1, 2, 3, 4, 5, 6, 7])"
      ]
     },
     "metadata": {},
     "output_type": "display_data"
    },
    {
     "data": {
      "text/plain": [
       "7"
      ]
     },
     "metadata": {},
     "output_type": "display_data"
    },
    {
     "data": {
      "text/plain": [
       "False"
      ]
     },
     "metadata": {},
     "output_type": "display_data"
    },
    {
     "data": {
      "text/plain": [
       "1    3\n",
       "2    2\n",
       "5    2\n",
       "3    1\n",
       "4    1\n",
       "6    1\n",
       "7    1\n",
       "dtype: int64"
      ]
     },
     "metadata": {},
     "output_type": "display_data"
    }
   ],
   "source": [
    "a39 = pd.Series(np.array([1,1,1,2,2,3,4,5,5,6,7]))\n",
    "display(a39.unique() , a39.nunique() , a39.is_unique , a39.value_counts())"
   ]
  },
  {
   "cell_type": "markdown",
   "id": "c52c96b0",
   "metadata": {},
   "source": [
    "- **head**  แสดงรายการแรก ตามจำนวนที่ระบุ\n",
    "- **tail**  แสดงรายการสุดท้าย ตามจำนวนที่ระบุ  "
   ]
  },
  {
   "cell_type": "code",
   "execution_count": 23,
   "id": "0cf40157",
   "metadata": {},
   "outputs": [
    {
     "data": {
      "text/plain": [
       "0     3\n",
       "1     1\n",
       "2     4\n",
       "3     4\n",
       "4     7\n",
       "5     1\n",
       "6     1\n",
       "7     5\n",
       "8     3\n",
       "9     8\n",
       "10    7\n",
       "11    8\n",
       "12    8\n",
       "13    8\n",
       "14    6\n",
       "15    7\n",
       "16    8\n",
       "17    2\n",
       "18    5\n",
       "19    6\n",
       "dtype: int32"
      ]
     },
     "metadata": {},
     "output_type": "display_data"
    },
    {
     "data": {
      "text/plain": [
       "0    3\n",
       "1    1\n",
       "2    4\n",
       "3    4\n",
       "4    7\n",
       "dtype: int32"
      ]
     },
     "metadata": {},
     "output_type": "display_data"
    },
    {
     "data": {
      "text/plain": [
       "15    7\n",
       "16    8\n",
       "17    2\n",
       "18    5\n",
       "19    6\n",
       "dtype: int32"
      ]
     },
     "metadata": {},
     "output_type": "display_data"
    }
   ],
   "source": [
    "a40 = pd.Series(np.random.randint(1,10,20))\n",
    "display(a40 , a40.head(5) , a40.tail(5))"
   ]
  },
  {
   "cell_type": "markdown",
   "id": "67734a5d",
   "metadata": {},
   "source": [
    "- **drop**  ลบข้อมูลออกจาก Series ผลลัพธ์ที่ได้คือ ออบเจ็กต์ Series ของรายการที่ยังเหลืออยู่"
   ]
  },
  {
   "cell_type": "code",
   "execution_count": 233,
   "id": "3105455a",
   "metadata": {},
   "outputs": [
    {
     "data": {
      "text/plain": [
       "0    9\n",
       "1    8\n",
       "2    1\n",
       "3    3\n",
       "4    1\n",
       "dtype: int32"
      ]
     },
     "metadata": {},
     "output_type": "display_data"
    },
    {
     "data": {
      "text/plain": [
       "0    9\n",
       "1    8\n",
       "3    3\n",
       "4    1\n",
       "dtype: int32"
      ]
     },
     "metadata": {},
     "output_type": "display_data"
    }
   ],
   "source": [
    "a41 = pd.Series(np.random.randint(1,10,5))\n",
    "a42 = a41.drop(2)\n",
    "display(a41,a42)"
   ]
  },
  {
   "cell_type": "markdown",
   "id": "2780af85",
   "metadata": {},
   "source": [
    "- **map** แก้ไขรายการของข้อมูลของ series หลายๆอันพร้อมกัน โดย map ค่าที่ตรงกันในแบบดิกชันนารี คือ {ค่าเดิม:ค่าใหม่} ส่วนค่าไม่ตรงกันจะกลายเป็น NaN"
   ]
  },
  {
   "cell_type": "code",
   "execution_count": 25,
   "id": "dd2987a2",
   "metadata": {},
   "outputs": [
    {
     "data": {
      "text/plain": [
       "0    10\n",
       "1    20\n",
       "2    30\n",
       "3    40\n",
       "dtype: int64"
      ]
     },
     "metadata": {},
     "output_type": "display_data"
    },
    {
     "data": {
      "text/plain": [
       "0    100.0\n",
       "1    200.0\n",
       "2      NaN\n",
       "3      NaN\n",
       "dtype: float64"
      ]
     },
     "metadata": {},
     "output_type": "display_data"
    }
   ],
   "source": [
    "a43 = pd.Series([10,20,30,40])\n",
    "a44 = a43.map({10:100 , 20:200})\n",
    "\n",
    "display(a43,a44)"
   ]
  },
  {
   "cell_type": "markdown",
   "id": "9e1e8644",
   "metadata": {},
   "source": [
    "- **rename** แก้ไขชื่อ index โดยจับคู่ index ที่ตรงกันในแบบดิกชันนารี"
   ]
  },
  {
   "cell_type": "code",
   "execution_count": 234,
   "id": "e4dde484",
   "metadata": {},
   "outputs": [
    {
     "data": {
      "text/plain": [
       "0    10\n",
       "1    20\n",
       "2    30\n",
       "3    40\n",
       "dtype: int32"
      ]
     },
     "metadata": {},
     "output_type": "display_data"
    },
    {
     "data": {
      "text/plain": [
       "10      10\n",
       "100     20\n",
       "1000    30\n",
       "3       40\n",
       "dtype: int32"
      ]
     },
     "metadata": {},
     "output_type": "display_data"
    }
   ],
   "source": [
    "a45 = pd.Series(np.array([10,20,30,40]))\n",
    "a46 = a45.rename({0:10 , 1:100 , 2:1000})\n",
    "\n",
    "# หากต้องการเปลี่ยนชื่อทั้งหมด อาจจะกำหนดผ่านแอตทริบิวต์\n",
    "# a46.index = [\"one\",\"two\",\"three\",\"four\"]\n",
    "\n",
    "display(a45,a46)"
   ]
  },
  {
   "cell_type": "markdown",
   "id": "01e70703",
   "metadata": {},
   "source": [
    "- **sort_values** เรียงลำดับข้อมูลปกติ ปกติจะเรียงจากน้อยไปหามาก แต่ถ้าต้องการเรียงจากมากไปหาน้อย ให้ระบุ **ascending=False** (ถ้าเป็น True จะเรียงจากน้อยไปมาก)\n",
    "- **iteritems** สำหรับเข้าถึงรายการข้อมูลทั้งหมดด้วยลูป เช่นเดียวกับฟังชันก์ enumerate ของ python "
   ]
  },
  {
   "cell_type": "code",
   "execution_count": 235,
   "id": "ec922e41",
   "metadata": {},
   "outputs": [
    {
     "data": {
      "text/plain": [
       "0    57\n",
       "1    96\n",
       "2    36\n",
       "3    54\n",
       "4    36\n",
       "dtype: int32"
      ]
     },
     "metadata": {},
     "output_type": "display_data"
    },
    {
     "data": {
      "text/plain": [
       "2    36\n",
       "4    36\n",
       "3    54\n",
       "0    57\n",
       "1    96\n",
       "dtype: int32"
      ]
     },
     "metadata": {},
     "output_type": "display_data"
    },
    {
     "data": {
      "text/plain": [
       "1    96\n",
       "0    57\n",
       "3    54\n",
       "2    36\n",
       "4    36\n",
       "dtype: int32"
      ]
     },
     "metadata": {},
     "output_type": "display_data"
    },
    {
     "name": "stdout",
     "output_type": "stream",
     "text": [
      "0:57\n",
      "1:96\n",
      "2:36\n",
      "3:54\n",
      "4:36\n"
     ]
    }
   ],
   "source": [
    "a47 = pd.Series(np.random.randint(1,100,5))\n",
    "display(a47 , a47.sort_values() , a47.sort_values(ascending=False))\n",
    "\n",
    "for (i,e) in a47.iteritems():\n",
    "    print(f\"{i}:{e}\")"
   ]
  },
  {
   "cell_type": "markdown",
   "id": "a19f42b5",
   "metadata": {},
   "source": [
    "### ข้อมูลที่มีค่า NaN\n",
    "- ใน numpy มีการกำหนดค่า NaN ด้วย np.nan\n",
    "- หากเราคำนวนค่า NaN ก็จะได้ผลลัพธ์ NaN ตามเดิม"
   ]
  },
  {
   "cell_type": "code",
   "execution_count": 28,
   "id": "4fb80006",
   "metadata": {},
   "outputs": [
    {
     "data": {
      "text/plain": [
       "0    1.0\n",
       "1    2.0\n",
       "2    NaN\n",
       "3    3.0\n",
       "4    NaN\n",
       "dtype: float64"
      ]
     },
     "metadata": {},
     "output_type": "display_data"
    },
    {
     "data": {
      "text/plain": [
       "0    2.0\n",
       "1    3.0\n",
       "2    NaN\n",
       "3    4.0\n",
       "4    NaN\n",
       "dtype: float64"
      ]
     },
     "metadata": {},
     "output_type": "display_data"
    },
    {
     "data": {
      "text/plain": [
       "0   -2.0\n",
       "1   -1.0\n",
       "2    NaN\n",
       "3    0.0\n",
       "4    NaN\n",
       "dtype: float64"
      ]
     },
     "metadata": {},
     "output_type": "display_data"
    }
   ],
   "source": [
    "a48 = pd.Series([1,2,np.nan,3,np.nan])\n",
    "display(a48 , a48 + 1 , a48 - 3)"
   ]
  },
  {
   "cell_type": "markdown",
   "id": "dc41884c",
   "metadata": {},
   "source": [
    "- สามารถกำหนด อาร์กิวเมนต์ **skipna=False** เมื่อต้องการให้พิจารณา NaN\n",
    "- เมื่อกำหนดแล้วหากใน Series มีหลายรายการอย่างน้อยที่เป็น NaN ผลลัพธ์จะเป็น NaN โดยปริยาย"
   ]
  },
  {
   "cell_type": "code",
   "execution_count": 236,
   "id": "6fe02356",
   "metadata": {},
   "outputs": [
    {
     "name": "stdout",
     "output_type": "stream",
     "text": [
      "0     2\n",
      "1     4\n",
      "2     6\n",
      "3     8\n",
      "4    10\n",
      "dtype: int32\n",
      "\n",
      "sum = 30.0\n",
      "count = 5\n",
      "size = 7\n",
      "mean = 6.0\n",
      "std = 3.1622776601683795\n",
      "min = 2.0\n",
      "max = 10.0\n",
      "\n",
      "sum = nan\n",
      "count = 5\n",
      "mean = nan\n",
      "std = nan\n",
      "min = nan\n",
      "max = nan\n"
     ]
    }
   ],
   "source": [
    "a49 = pd.Series(np.array([2,4,6,8,10,np.nan,np.nan]))\n",
    "print(a31,end=\"\\n\\n\")\n",
    "print(\"sum =\" , a49.sum())\n",
    "print(\"count =\" , a49.count())\n",
    "print(\"size =\" , a49.size)\n",
    "print(\"mean =\" , a49.mean())\n",
    "print(\"std =\" , a49.std())\n",
    "print(\"min =\" , a49.min())\n",
    "print(\"max =\" , a49.max())\n",
    "print()\n",
    "print(\"sum =\" , a49.sum(skipna=False))\n",
    "print(\"count =\" , a49.count())\n",
    "print(\"mean =\" , a49.mean(skipna=False))\n",
    "print(\"std =\" , a49.std(skipna=False))\n",
    "print(\"min =\" , a49.min(skipna=False))\n",
    "print(\"max =\" , a49.max(skipna=False))"
   ]
  },
  {
   "cell_type": "markdown",
   "id": "c02218f9",
   "metadata": {},
   "source": [
    "- **dropna** ลบรายการข้อมูลที่มีค่า NaN ทิ้งไป\n",
    "- **fillna** เปลี่ยนรายการข้อมูลที่มีค่า NaN ให้เป็นค่าใหม่ โดยกำหนดค่าเป็นอาร์กิวเมนต์\n",
    "- **hasnans** มีรายการที่เป็น NaN อยู่หรือไม่ ถ้ามีอย่างน้อย 1 รายการจะได้เป็นค่าเป็น True"
   ]
  },
  {
   "cell_type": "code",
   "execution_count": 30,
   "id": "298b874f",
   "metadata": {},
   "outputs": [
    {
     "data": {
      "text/plain": [
       "0     2.0\n",
       "1     4.0\n",
       "2     6.0\n",
       "3     8.0\n",
       "4    10.0\n",
       "5     NaN\n",
       "6     NaN\n",
       "dtype: float64"
      ]
     },
     "metadata": {},
     "output_type": "display_data"
    },
    {
     "data": {
      "text/plain": [
       "0     2.0\n",
       "1     4.0\n",
       "2     6.0\n",
       "3     8.0\n",
       "4    10.0\n",
       "dtype: float64"
      ]
     },
     "metadata": {},
     "output_type": "display_data"
    },
    {
     "data": {
      "text/plain": [
       "0     2.0\n",
       "1     4.0\n",
       "2     6.0\n",
       "3     8.0\n",
       "4    10.0\n",
       "5    30.0\n",
       "6    30.0\n",
       "dtype: float64"
      ]
     },
     "metadata": {},
     "output_type": "display_data"
    },
    {
     "data": {
      "text/plain": [
       "True"
      ]
     },
     "metadata": {},
     "output_type": "display_data"
    },
    {
     "data": {
      "text/plain": [
       "False"
      ]
     },
     "metadata": {},
     "output_type": "display_data"
    }
   ],
   "source": [
    "a50 = pd.Series(np.array([2,4,6,8,10,np.nan,np.nan]))\n",
    "a51 = pd.Series(np.array([2,4,6,8,10]))\n",
    "\n",
    "display(a50 , a50.dropna() , a50.fillna(30) , a50.hasnans , a51.hasnans)"
   ]
  }
 ],
 "metadata": {
  "kernelspec": {
   "display_name": "Python 3 (ipykernel)",
   "language": "python",
   "name": "python3"
  },
  "language_info": {
   "codemirror_mode": {
    "name": "ipython",
    "version": 3
   },
   "file_extension": ".py",
   "mimetype": "text/x-python",
   "name": "python",
   "nbconvert_exporter": "python",
   "pygments_lexer": "ipython3",
   "version": "3.9.12"
  }
 },
 "nbformat": 4,
 "nbformat_minor": 5
}
