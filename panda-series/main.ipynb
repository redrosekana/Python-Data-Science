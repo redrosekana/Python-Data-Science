{
 "cells": [
  {
   "cell_type": "markdown",
   "id": "504850da",
   "metadata": {},
   "source": [
    "### การ import pandas"
   ]
  },
  {
   "cell_type": "code",
   "execution_count": 1,
   "id": "0a12e927",
   "metadata": {},
   "outputs": [],
   "source": [
    "import numpy as np\n",
    "import pandas as pd"
   ]
  },
  {
   "cell_type": "markdown",
   "id": "2b79d241",
   "metadata": {},
   "source": [
    "### การกำหนดข้อมูลให้แก่ Series\n",
    "คำสั่ง **pd.Series(data,index,name,dtype)** โดยส่วนที่จำเป็นต้องกำหนดมีแค่ data ส่วนอื่นไม่ต้องกำหนดก็ได้ใช้ค่า default  \n",
    "**dtpye** = int64 float64 object bool datetime64 timedelta"
   ]
  },
  {
   "cell_type": "markdown",
   "id": "0fd4b6c7",
   "metadata": {},
   "source": [
    "#### การกำหนดข้อมูลแบบ sequence ของ python\n",
    "- ควรกำหนดเป็นข้อมูลแบบ 1 มิติ ไม่เช่นนั้นจะทำให้ถูกซ้อนอยู่ชั้นในและถูกมองเป็นรายการเดียวกัน\n",
    "- สามารถใช้ฟังชันก์ range ก็ได้ถ้าข้อมูลต่อเนื่องกัน\n",
    "- ถ้าเป็น dictionary จะนำค่าคีย์มาเป็น index"
   ]
  },
  {
   "cell_type": "code",
   "execution_count": 2,
   "id": "ad337525",
   "metadata": {},
   "outputs": [
    {
     "data": {
      "text/plain": [
       "0    1\n",
       "1    2\n",
       "2    3\n",
       "dtype: int64"
      ]
     },
     "metadata": {},
     "output_type": "display_data"
    },
    {
     "data": {
      "text/plain": [
       "0    10\n",
       "1    20\n",
       "2    30\n",
       "dtype: int64"
      ]
     },
     "metadata": {},
     "output_type": "display_data"
    },
    {
     "data": {
      "text/plain": [
       "0    1\n",
       "1    2\n",
       "2    3\n",
       "3    4\n",
       "dtype: int64"
      ]
     },
     "metadata": {},
     "output_type": "display_data"
    },
    {
     "data": {
      "text/plain": [
       "0    100\n",
       "1    200\n",
       "2    300\n",
       "dtype: object"
      ]
     },
     "metadata": {},
     "output_type": "display_data"
    },
    {
     "data": {
      "text/plain": [
       "a    100\n",
       "b    200\n",
       "dtype: int64"
      ]
     },
     "metadata": {},
     "output_type": "display_data"
    },
    {
     "data": {
      "text/plain": [
       "1      9\n",
       "2     99\n",
       "3    999\n",
       "Name: panda, dtype: int64"
      ]
     },
     "metadata": {},
     "output_type": "display_data"
    },
    {
     "data": {
      "text/plain": [
       "0    [1, 2, 3]\n",
       "1    [4, 5, 6]\n",
       "2    [7, 8, 9]\n",
       "dtype: object"
      ]
     },
     "metadata": {},
     "output_type": "display_data"
    }
   ],
   "source": [
    "a1 = pd.Series([1,2,3]) # list\n",
    "a2 = pd.Series((10,20,30)) # tuple\n",
    "a3 = pd.Series(range(1,5)) # range\n",
    "\n",
    "tmp1 = [\"100\",\"200\",\"300\"] \n",
    "a4 = pd.Series(tmp1)\n",
    "a5 = pd.Series({\"a\":100,\"b\":200}) # dictionary\n",
    "a6 = pd.Series(data=[9,99,999],index=[1,2,3],name=\"panda\",dtype=\"int64\") # กำหนดแบบเต็ม\n",
    "a7 = pd.Series([[1,2,3],[4,5,6],[7,8,9]])\n",
    "\n",
    "display(a1,a2,a3,a4,a5,a6,a7)"
   ]
  },
  {
   "cell_type": "markdown",
   "id": "aac8383a",
   "metadata": {},
   "source": [
    "#### การกำหนดข้อมูลด้วย numpy"
   ]
  },
  {
   "cell_type": "code",
   "execution_count": 3,
   "id": "83a30be6",
   "metadata": {},
   "outputs": [
    {
     "data": {
      "text/plain": [
       "0    1\n",
       "1    2\n",
       "2    3\n",
       "dtype: int32"
      ]
     },
     "metadata": {},
     "output_type": "display_data"
    },
    {
     "data": {
      "text/plain": [
       "0    14\n",
       "1     9\n",
       "2    12\n",
       "dtype: int32"
      ]
     },
     "metadata": {},
     "output_type": "display_data"
    },
    {
     "data": {
      "text/plain": [
       "0     1\n",
       "1     4\n",
       "2     7\n",
       "3    10\n",
       "dtype: int32"
      ]
     },
     "metadata": {},
     "output_type": "display_data"
    }
   ],
   "source": [
    "n1 = np.array([1,2,3])\n",
    "n2 = np.random.randint(1,20,3)\n",
    "n3 = np.linspace(1,10,4,dtype=\"int\")\n",
    "\n",
    "a8 = pd.Series(n1)\n",
    "a9 = pd.Series(n2)\n",
    "a10 = pd.Series(n3)\n",
    "\n",
    "display(a8,a9,a10)"
   ]
  },
  {
   "cell_type": "markdown",
   "id": "6722c8e3",
   "metadata": {},
   "source": [
    "### การกำหนด index\n",
    "- หากไม่กำหนด defalut จะเป็น 0,1,2,3,....\n",
    "- สามารถกำหนด index ได้จะเป็นสตริงหรือตัวเลขก็ได้ แต่ต้องมีค่า**เท่ากับรายการข้อมูล**"
   ]
  },
  {
   "cell_type": "code",
   "execution_count": 4,
   "id": "a1df21c2",
   "metadata": {},
   "outputs": [
    {
     "data": {
      "text/plain": [
       "10    1\n",
       "20    2\n",
       "30    3\n",
       "dtype: int64"
      ]
     },
     "metadata": {},
     "output_type": "display_data"
    },
    {
     "data": {
      "text/plain": [
       "a    100\n",
       "b    150\n",
       "c    200\n",
       "dtype: int64"
      ]
     },
     "metadata": {},
     "output_type": "display_data"
    },
    {
     "data": {
      "text/plain": [
       "x    95\n",
       "y    96\n",
       "z    97\n",
       "dtype: int64"
      ]
     },
     "metadata": {},
     "output_type": "display_data"
    }
   ],
   "source": [
    "a11 = pd.Series([1,2,3],[10,20,30])\n",
    "a12 = pd.Series([100,150,200],[\"a\",\"b\",\"c\"])\n",
    "a13 = pd.Series([95,96,97],index=list(\"xyz\"))\n",
    "display(a11,a12,a13)"
   ]
  },
  {
   "cell_type": "markdown",
   "id": "e7a8e515",
   "metadata": {},
   "source": [
    "### การเข้าถึงและอ้างอิงลำดับข้อมูล แบบปกติ\n",
    "#### แอตทริบิวต์ values และ index"
   ]
  },
  {
   "cell_type": "code",
   "execution_count": 5,
   "id": "e64ea1e4",
   "metadata": {},
   "outputs": [
    {
     "name": "stdout",
     "output_type": "stream",
     "text": [
      "RangeIndex(start=0, stop=3, step=1)\n",
      "[300 600 900]\n",
      "--------------------------------------\n",
      "Index(['x', 'y', 'z'], dtype='object')\n",
      "[200 400 600]\n",
      "--------------------------------------\n"
     ]
    }
   ],
   "source": [
    "a14 = pd.Series([300,600,900])\n",
    "print(a14.index , a14.values , sep=\"\\n\")\n",
    "display()\n",
    "print(\"--------------------------------------\")\n",
    "a15 = pd.Series({\"x\":200,\"y\":400,\"z\":600})\n",
    "print(a15.index , a15.values , sep=\"\\n\")\n",
    "print(\"--------------------------------------\")"
   ]
  },
  {
   "cell_type": "markdown",
   "id": "68be98ec",
   "metadata": {},
   "source": [
    "#### หากต้องการอ้างถึงค่ารายการในลำดับ มีทางเลือกดังนี้\n",
    "- ระบุ index แบบลิสหรืออา์เรย์\n",
    "- ระบุด้วยชื่อ index\n",
    "- ถ้าหากว่ากำหนด index ด้วย ค่าตัวเลขจำนวนเต็ม ตอนอ้างถึงก็ต้องใช้ลำดับที่สร้างขึ้น ห้ามใช้ค่า defalut 0,1,2,3....."
   ]
  },
  {
   "cell_type": "code",
   "execution_count": 6,
   "id": "768c9371",
   "metadata": {},
   "outputs": [
    {
     "name": "stdout",
     "output_type": "stream",
     "text": [
      "300 600 900\n",
      "300 600 900\n",
      "------------------------------\n",
      "200 400 600\n",
      "200 400 600\n",
      "200 400 600\n"
     ]
    }
   ],
   "source": [
    "print(a14[0],a14[1],a14[2]) # กณีใน bullet point ที่ 3\n",
    "print(a14.values[0],a14.values[1],a14.values[2])\n",
    "print(\"------------------------------\")\n",
    "print(a15[0],a15[1],a15[2])\n",
    "print(a15.values[0],a15.values[1],a15.values[2])\n",
    "print(a15[\"x\"],a15[\"y\"],a15[\"z\"])"
   ]
  },
  {
   "cell_type": "markdown",
   "id": "db37d520",
   "metadata": {},
   "source": [
    "#### หากต้องการอ่านค่า index"
   ]
  },
  {
   "cell_type": "code",
   "execution_count": 7,
   "id": "01f9d944",
   "metadata": {},
   "outputs": [
    {
     "name": "stdout",
     "output_type": "stream",
     "text": [
      "RangeIndex(start=0, stop=3, step=1)\n",
      "0 1 2\n",
      "------------------------------\n",
      "Index(['x', 'y', 'z'], dtype='object')\n",
      "x y z\n"
     ]
    }
   ],
   "source": [
    "print(a14.index)\n",
    "print(a14.index[0],a14.index[1],a14.index[2])\n",
    "print(\"------------------------------\")\n",
    "print(a15.index)\n",
    "print(a15.index[0],a15.index[1],a15.index[2])"
   ]
  },
  {
   "cell_type": "markdown",
   "id": "a4bbc5f1",
   "metadata": {},
   "source": [
    "### การอ้างสมาชิกแบบ Fancy Index\n",
    "- คล้ายกับที่กำหนดใน numpy"
   ]
  },
  {
   "cell_type": "code",
   "execution_count": 8,
   "id": "ab97f3b6",
   "metadata": {},
   "outputs": [
    {
     "name": "stdout",
     "output_type": "stream",
     "text": [
      "0    15\n",
      "1    15\n",
      "2    15\n",
      "3    16\n",
      "4    16\n",
      "dtype: int32\n",
      "\n",
      "1    15\n",
      "2    15\n",
      "3    16\n",
      "dtype: int32\n",
      "------------------------------\n",
      "a    11\n",
      "b    22\n",
      "c    22\n",
      "d    33\n",
      "e    33\n",
      "dtype: int32\n",
      "\n",
      "d    33\n",
      "e    33\n",
      "dtype: int32\n"
     ]
    }
   ],
   "source": [
    "n4 = np.random.randint(1,20,5)\n",
    "a16 = pd.Series(n4)\n",
    "print(a16,a16[[1,2,3]],sep=\"\\n\\n\")\n",
    "print(\"------------------------------\")\n",
    "n5 = np.random.choice([11,22,33,44,55],5)\n",
    "a17 = pd.Series(n5,list(\"abcde\"))\n",
    "print(a17,a17[[\"d\",\"e\"]],sep=\"\\n\\n\")"
   ]
  },
  {
   "cell_type": "markdown",
   "id": "6151b9cf",
   "metadata": {},
   "source": [
    "### การอ้างถึงสมาชิกแบบ Index Slicing\n",
    "- อ้างอิงลำดับแบบไม่มีการกำหนด index **start:stop:step โดยตัวสุดท้ายจะไม่ถึงตัวstop**\n",
    "- อ้างอิงลำดับแบบมีการกำหนด index **start:stop:step โดยตัวสุดท้ายจะถึงตัวstop**"
   ]
  },
  {
   "cell_type": "code",
   "execution_count": 9,
   "id": "25b7d935",
   "metadata": {},
   "outputs": [
    {
     "data": {
      "text/plain": [
       "0    39\n",
       "1    15\n",
       "2    98\n",
       "3    78\n",
       "4    98\n",
       "5    31\n",
       "6    75\n",
       "7    98\n",
       "8    74\n",
       "9    90\n",
       "dtype: int32"
      ]
     },
     "metadata": {},
     "output_type": "display_data"
    },
    {
     "data": {
      "text/plain": [
       "0    39\n",
       "1    15\n",
       "2    98\n",
       "3    78\n",
       "4    98\n",
       "dtype: int32"
      ]
     },
     "metadata": {},
     "output_type": "display_data"
    },
    {
     "data": {
      "text/plain": [
       "1    15\n",
       "4    98\n",
       "7    98\n",
       "dtype: int32"
      ]
     },
     "metadata": {},
     "output_type": "display_data"
    },
    {
     "data": {
      "text/plain": [
       "9    90\n",
       "8    74\n",
       "7    98\n",
       "6    75\n",
       "dtype: int32"
      ]
     },
     "metadata": {},
     "output_type": "display_data"
    }
   ],
   "source": [
    "a18 = pd.Series(np.random.randint(1,100,10))\n",
    "display(a18 , a18[0:5] , a18[1:10:3] , a18[-1:-5:-1])"
   ]
  },
  {
   "cell_type": "code",
   "execution_count": 10,
   "id": "904bbc05",
   "metadata": {},
   "outputs": [
    {
     "data": {
      "text/plain": [
       "a    24\n",
       "b    90\n",
       "c    40\n",
       "d    70\n",
       "e    42\n",
       "dtype: int32"
      ]
     },
     "metadata": {},
     "output_type": "display_data"
    },
    {
     "data": {
      "text/plain": [
       "a    24\n",
       "b    90\n",
       "dtype: int32"
      ]
     },
     "metadata": {},
     "output_type": "display_data"
    },
    {
     "data": {
      "text/plain": [
       "a    24\n",
       "c    40\n",
       "e    42\n",
       "dtype: int32"
      ]
     },
     "metadata": {},
     "output_type": "display_data"
    },
    {
     "data": {
      "text/plain": [
       "b    90\n",
       "c    40\n",
       "d    70\n",
       "dtype: int32"
      ]
     },
     "metadata": {},
     "output_type": "display_data"
    },
    {
     "data": {
      "text/plain": [
       "e    42\n",
       "d    70\n",
       "c    40\n",
       "b    90\n",
       "dtype: int32"
      ]
     },
     "metadata": {},
     "output_type": "display_data"
    }
   ],
   "source": [
    "a18 = pd.Series(np.random.randint(1,100,5),list(\"abcde\"))\n",
    "display(a18 , a18[\"a\":\"b\"] , a18[\"a\"::2] , a18[\"b\":\"d\"] , a18[\"e\":\"b\":-1])"
   ]
  },
  {
   "cell_type": "markdown",
   "id": "9b6324ed",
   "metadata": {},
   "source": [
    "### การกำหนดช่วงลำดับแบบ loc\n",
    "- **Position Index** คือลำดับแบบ 0,1,2,3... เมื่อเราสร้างออบเจ็กต์ Series ก็จะมี Index ประเทนี้อัตโนมัต ถึงแม้จะกำหนด index ใหม่ ก็ยังสามารถอ้างอิงด้วย ลำดับแบบ 0,1,2,3... ได้\n",
    "- **Label Index** คือที่เรากำหนดลำดับอ้างอิงใหม่"
   ]
  },
  {
   "cell_type": "markdown",
   "id": "c00d3d67",
   "metadata": {},
   "source": [
    "**สังเกตุว่า** เมื่อเราสร้าง Series พร้อมกำหนดตัวเลขแบบ label index จากนั้นอ้างสมาชิกแบบ index slicing มันจะพิจารณาตามเลข position index"
   ]
  },
  {
   "cell_type": "code",
   "execution_count": 11,
   "id": "8f9a7010",
   "metadata": {},
   "outputs": [
    {
     "data": {
      "text/plain": [
       "1    22\n",
       "3    44\n",
       "5    66\n",
       "7    88\n",
       "9    99\n",
       "dtype: int32"
      ]
     },
     "metadata": {},
     "output_type": "display_data"
    },
    {
     "data": {
      "text/plain": [
       "7    88\n",
       "9    99\n",
       "dtype: int32"
      ]
     },
     "metadata": {},
     "output_type": "display_data"
    }
   ],
   "source": [
    "a19 = pd.Series(np.array([22,44,66,88,99]),[1,3,5,7,9])\n",
    "display(a19,a19[3:10])"
   ]
  },
  {
   "cell_type": "markdown",
   "id": "2356a56e",
   "metadata": {},
   "source": [
    "โอเปอเรเตอร์ **loc** ใช้ในการระบุช่วงแบบ label index\n",
    "- อ้างอิงลำดับแบบมีการกำหนด index **start:stop:step โดยตัวสุดท้ายจะถึงตัว stop**\n",
    "- กรณี index เป็นอักขระไม่จำเป็นต้องใช้ loc ก็ได้ ดังหัวข้อที่แล้ว"
   ]
  },
  {
   "cell_type": "code",
   "execution_count": 12,
   "id": "76446590",
   "metadata": {},
   "outputs": [
    {
     "data": {
      "text/plain": [
       "22"
      ]
     },
     "metadata": {},
     "output_type": "display_data"
    },
    {
     "data": {
      "text/plain": [
       "44"
      ]
     },
     "metadata": {},
     "output_type": "display_data"
    },
    {
     "data": {
      "text/plain": [
       "3    44\n",
       "5    66\n",
       "7    88\n",
       "9    99\n",
       "dtype: int32"
      ]
     },
     "metadata": {},
     "output_type": "display_data"
    },
    {
     "data": {
      "text/plain": [
       "1    22\n",
       "7    88\n",
       "9    99\n",
       "dtype: int32"
      ]
     },
     "metadata": {},
     "output_type": "display_data"
    }
   ],
   "source": [
    "display(a19.loc[1],a19.loc[3],a19.loc[3:9],a19.loc[[1,7,9]])"
   ]
  },
  {
   "cell_type": "markdown",
   "id": "f6f2489e",
   "metadata": {},
   "source": [
    "### การจัดการข้อมูลด้วยโอเปอเรเตอร์\n",
    "- (+ - * ** / // %) ดำเนินเกี่ยวกับค่าคงที่ หรือ series ด้วยกันเองก็ได้\n",
    "- การดำเนินการระหว่าง series จะเกิดขึ้นเฉพาะรายการที่มี index ตรงกันเท่านั้น (หากเป็นอักขระต้องเขียนในรูปแบบพิมพ์เดียวกัน)\n",
    "- การเรียงลำดับ index ไม่จำเป็นต้องตรงกัน\n",
    "- รายการที่กำหนด index ไม่ตรงกันรายการนั้นจะได้ค่า NaN"
   ]
  },
  {
   "cell_type": "code",
   "execution_count": 13,
   "id": "3bae9b4b",
   "metadata": {},
   "outputs": [
    {
     "data": {
      "text/plain": [
       "a    90\n",
       "b    65\n",
       "c    30\n",
       "dtype: int32"
      ]
     },
     "metadata": {},
     "output_type": "display_data"
    },
    {
     "data": {
      "text/plain": [
       "a    100\n",
       "b     75\n",
       "c     40\n",
       "dtype: int32"
      ]
     },
     "metadata": {},
     "output_type": "display_data"
    },
    {
     "data": {
      "text/plain": [
       "a    45\n",
       "b    32\n",
       "c    15\n",
       "dtype: int32"
      ]
     },
     "metadata": {},
     "output_type": "display_data"
    },
    {
     "name": "stdout",
     "output_type": "stream",
     "text": [
      "------------------------------\n"
     ]
    },
    {
     "data": {
      "text/plain": [
       "a    61\n",
       "b    13\n",
       "c    93\n",
       "dtype: int32"
      ]
     },
     "metadata": {},
     "output_type": "display_data"
    },
    {
     "data": {
      "text/plain": [
       "c    69\n",
       "b    24\n",
       "a    15\n",
       "dtype: int32"
      ]
     },
     "metadata": {},
     "output_type": "display_data"
    },
    {
     "data": {
      "text/plain": [
       "a     76\n",
       "b     37\n",
       "c    162\n",
       "dtype: int32"
      ]
     },
     "metadata": {},
     "output_type": "display_data"
    },
    {
     "name": "stdout",
     "output_type": "stream",
     "text": [
      "------------------------------\n"
     ]
    },
    {
     "data": {
      "text/plain": [
       "c    69\n",
       "b    24\n",
       "a    15\n",
       "dtype: int32"
      ]
     },
     "metadata": {},
     "output_type": "display_data"
    },
    {
     "data": {
      "text/plain": [
       "z    86\n",
       "b    84\n",
       "a    79\n",
       "dtype: int32"
      ]
     },
     "metadata": {},
     "output_type": "display_data"
    },
    {
     "data": {
      "text/plain": [
       "a     94.0\n",
       "b    108.0\n",
       "c      NaN\n",
       "z      NaN\n",
       "dtype: float64"
      ]
     },
     "metadata": {},
     "output_type": "display_data"
    }
   ],
   "source": [
    "a20 = pd.Series(np.random.randint(10,100,3),list(\"abc\"))\n",
    "a21 = pd.Series(np.random.randint(10,100,3),list(\"abc\"))\n",
    "a22 = pd.Series(np.random.randint(10,100,3),list(\"cba\"))\n",
    "a23 = pd.Series(np.random.randint(10,100,3),list(\"zba\"))\n",
    "\n",
    "display(a20 , a20+10 , a20//2)\n",
    "print(\"------------------------------\")\n",
    "display(a21 , a22 , a21+a22)\n",
    "print(\"------------------------------\")\n",
    "display(a22 , a23 , a22+a23)"
   ]
  },
  {
   "cell_type": "code",
   "execution_count": 14,
   "id": "ba54f713",
   "metadata": {},
   "outputs": [
    {
     "data": {
      "text/plain": [
       "0    77\n",
       "1    62\n",
       "2    92\n",
       "dtype: int32"
      ]
     },
     "metadata": {},
     "output_type": "display_data"
    },
    {
     "data": {
      "text/plain": [
       "0     87\n",
       "1     72\n",
       "2    102\n",
       "dtype: int32"
      ]
     },
     "metadata": {},
     "output_type": "display_data"
    },
    {
     "data": {
      "text/plain": [
       "0    38\n",
       "1    31\n",
       "2    46\n",
       "dtype: int32"
      ]
     },
     "metadata": {},
     "output_type": "display_data"
    },
    {
     "name": "stdout",
     "output_type": "stream",
     "text": [
      "------------------------------\n"
     ]
    },
    {
     "data": {
      "text/plain": [
       "0    49\n",
       "1    97\n",
       "2    87\n",
       "dtype: int32"
      ]
     },
     "metadata": {},
     "output_type": "display_data"
    },
    {
     "data": {
      "text/plain": [
       "0    86\n",
       "1    86\n",
       "2    84\n",
       "dtype: int32"
      ]
     },
     "metadata": {},
     "output_type": "display_data"
    },
    {
     "data": {
      "text/plain": [
       "0    135\n",
       "1    183\n",
       "2    171\n",
       "dtype: int32"
      ]
     },
     "metadata": {},
     "output_type": "display_data"
    }
   ],
   "source": [
    "a24 = pd.Series(np.random.randint(10,100,3))\n",
    "a25 = pd.Series(np.random.randint(10,100,3))\n",
    "a26 = pd.Series(np.random.randint(10,100,3))\n",
    "\n",
    "display(a24 , a24+10 , a24//2)\n",
    "print(\"------------------------------\")\n",
    "display(a25 , a26 , a25+a26)"
   ]
  },
  {
   "cell_type": "code",
   "execution_count": 15,
   "id": "9ee8c6c7",
   "metadata": {},
   "outputs": [
    {
     "data": {
      "text/plain": [
       "0    22\n",
       "1    93\n",
       "2     2\n",
       "3    60\n",
       "4    39\n",
       "5    54\n",
       "6    70\n",
       "7    51\n",
       "8    60\n",
       "9    19\n",
       "dtype: int32"
      ]
     },
     "metadata": {},
     "output_type": "display_data"
    },
    {
     "data": {
      "text/plain": [
       "1    93\n",
       "3    60\n",
       "5    54\n",
       "6    70\n",
       "7    51\n",
       "8    60\n",
       "dtype: int32"
      ]
     },
     "metadata": {},
     "output_type": "display_data"
    },
    {
     "data": {
      "text/plain": [
       "3    60\n",
       "6    70\n",
       "8    60\n",
       "dtype: int32"
      ]
     },
     "metadata": {},
     "output_type": "display_data"
    },
    {
     "data": {
      "text/plain": [
       "1    93\n",
       "2     2\n",
       "9    19\n",
       "dtype: int32"
      ]
     },
     "metadata": {},
     "output_type": "display_data"
    }
   ],
   "source": [
    "a27 = pd.Series(np.random.randint(1,100,10))\n",
    "a28 = a27[a27 > 50]\n",
    "a29 = a27[(a27 > 50) & (a27 % 5 == 0)]\n",
    "a30 = a27[(a27 < 20) | (a27 > 80)]\n",
    "display(a27,a28,a29,a30)"
   ]
  }
 ],
 "metadata": {
  "kernelspec": {
   "display_name": "Python 3 (ipykernel)",
   "language": "python",
   "name": "python3"
  },
  "language_info": {
   "codemirror_mode": {
    "name": "ipython",
    "version": 3
   },
   "file_extension": ".py",
   "mimetype": "text/x-python",
   "name": "python",
   "nbconvert_exporter": "python",
   "pygments_lexer": "ipython3",
   "version": "3.9.12"
  }
 },
 "nbformat": 4,
 "nbformat_minor": 5
}
