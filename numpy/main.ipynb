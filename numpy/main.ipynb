{
 "cells": [
  {
   "cell_type": "markdown",
   "id": "23164e25",
   "metadata": {},
   "source": [
    "### การ import numpy"
   ]
  },
  {
   "cell_type": "code",
   "execution_count": 1,
   "id": "455fea63",
   "metadata": {},
   "outputs": [],
   "source": [
    "import numpy as np"
   ]
  },
  {
   "cell_type": "markdown",
   "id": "e0045335",
   "metadata": {},
   "source": [
    "### การสร้างอาร์เรย์ และการระบุชนิดข้อมูล\n",
    "- type int , uint , float"
   ]
  },
  {
   "cell_type": "code",
   "execution_count": 242,
   "id": "9ed47fe6",
   "metadata": {},
   "outputs": [
    {
     "name": "stdout",
     "output_type": "stream",
     "text": [
      "[1. 2. 3. 4. 5.]\n",
      "[1 2 3]\n",
      "[-1 -2 -3]\n",
      "[1 2 3 4 5 6 7 8 9]\n",
      "[ 3  6  9 12]\n"
     ]
    }
   ],
   "source": [
    "a1 = np.array([1,2,3,4,5] , dtype=\"float32\")\n",
    "a2 = np.array([1.1,2.2,3.3] , dtype=\"uint32\")\n",
    "a3 = np.array([-1,-2,-3] , dtype=\"int32\")\n",
    "a4 = np.array(range(1,10) , dtype=\"int32\")\n",
    "a5 = np.array([x*3 for x in range(1,5)] , dtype=\"int32\")\n",
    "\n",
    "print(a1 , a2 , a3 , a4, a5 ,sep=\"\\n\")"
   ]
  },
  {
   "cell_type": "markdown",
   "id": "2586ce90",
   "metadata": {},
   "source": [
    "- type boolean , string"
   ]
  },
  {
   "cell_type": "code",
   "execution_count": 243,
   "id": "52dcf50b",
   "metadata": {},
   "outputs": [
    {
     "name": "stdout",
     "output_type": "stream",
     "text": [
      "[ True False  True]\n",
      "['a' 'b' 'c']\n"
     ]
    }
   ],
   "source": [
    "a6 = np.array([True,False,True] , dtype=\"bool\")\n",
    "a7 = np.array(['a','b','c'])\n",
    "\n",
    "print(a6 , a7 , sep=\"\\n\")    "
   ]
  },
  {
   "cell_type": "markdown",
   "id": "10123c2b",
   "metadata": {},
   "source": [
    "- แปลงชนิดข้อมูลด้วยฟังชันก์ **astype()** "
   ]
  },
  {
   "cell_type": "code",
   "execution_count": 245,
   "id": "61b4faa5",
   "metadata": {},
   "outputs": [
    {
     "name": "stdout",
     "output_type": "stream",
     "text": [
      "[10. 20. 30. 40. 50.]\n",
      "[1 1 0]\n"
     ]
    }
   ],
   "source": [
    "a8 = np.array([10,20,30,40,50] , dtype=\"int32\")\n",
    "a9 = a8.astype(\"float32\")\n",
    "\n",
    "a10 = np.array([True , True , False] , dtype=\"bool\")\n",
    "a11 = a10.astype(\"uint32\")\n",
    "\n",
    "print(a9 , a11 , sep=\"\\n\")"
   ]
  },
  {
   "cell_type": "markdown",
   "id": "d9ad2709",
   "metadata": {},
   "source": [
    "### การสร้างอาร์เรย์แบบใช้ข้อมูลเดียวกัน\n",
    "- **zeros(size,dtype)** 0 หมด\n",
    "- **ones(size,dtype)**  1 หมด\n",
    "- **full(size,value)**  กำหนดค่าที่ต้องการ"
   ]
  },
  {
   "cell_type": "code",
   "execution_count": 5,
   "id": "5409dadd",
   "metadata": {},
   "outputs": [
    {
     "name": "stdout",
     "output_type": "stream",
     "text": [
      "[0. 0. 0. 0. 0.]\n",
      "[1. 1. 1. 1. 1.]\n",
      "[20 20 20 20 20]\n",
      "[1 1 1]\n"
     ]
    }
   ],
   "source": [
    "a12 = np.zeros(5)\n",
    "a13 = np.ones(5)\n",
    "a14 = np.full(5,20)\n",
    "a15 = np.ones(3,dtype=\"int32\")\n",
    "\n",
    "print(a12 , a13 , a14 , a15 , sep=\"\\n\")"
   ]
  },
  {
   "cell_type": "markdown",
   "id": "a462e017",
   "metadata": {},
   "source": [
    "### การสร้างอาร์เรย์แบบกำหนดช่วงข้อมูล\n",
    "- **arange(start,stop,step)** เหมือนฟังชันก์ range ของ python\n",
    "- **linspace(begin,end,size)** จะได้ผลลัพธ์เป็น float ต้องกำหนด dtype เพื่อให้ได้ชนิดข้อมูลที่ต้องการ"
   ]
  },
  {
   "cell_type": "code",
   "execution_count": 6,
   "id": "10a9fd55",
   "metadata": {},
   "outputs": [
    {
     "name": "stdout",
     "output_type": "stream",
     "text": [
      "[1 3 5 7 9]\n",
      "[10  7  4  1]\n",
      "[1.  1.5 2.  2.5 3.  3.5 4.  4.5]\n",
      "[ 1  3  5  7 10]\n",
      "[15 10  5]\n"
     ]
    }
   ],
   "source": [
    "a16 = np.arange(1,10,2)\n",
    "a17 = np.arange(10,0,-3)\n",
    "a18 = np.arange(1,5,0.5)\n",
    "a19 = np.linspace(1,10,5 ,dtype=\"int32\")\n",
    "a20 = np.linspace(15,5,3 ,dtype=\"int32\")\n",
    "\n",
    "print(a16 , a17 , a18 , a19 , a20 , sep=\"\\n\")"
   ]
  },
  {
   "cell_type": "markdown",
   "id": "f21c5309",
   "metadata": {},
   "source": [
    "### การสร้างอาร์เรย์จากเลขสุ่ม\n",
    "- **randint(low,high,size)** สุ่มช่วงจำนวนเต็ม\n",
    "- **uniform(low,high,size)** สุ่มช่วงจำนวนทศนิยม\n",
    "- **rand(size)** สุ่มช่วง 0-1\n",
    "- **choice(sequence,size)** สุ่มจากตัวเลือกที่กำหนด"
   ]
  },
  {
   "cell_type": "code",
   "execution_count": 7,
   "id": "84f6f84d",
   "metadata": {},
   "outputs": [
    {
     "name": "stdout",
     "output_type": "stream",
     "text": [
      "[8 5 9]\n",
      "[1.31350749 5.38145734 2.87333101]\n",
      "[0.31745543 0.6439759  0.08285503]\n",
      "['jack' 'sarun' 'bell']\n",
      "[ 9 -9 -2 -9  8]\n"
     ]
    }
   ],
   "source": [
    "a21 = np.random.randint(1,10,3)\n",
    "a22 = np.random.uniform(1,10,3)\n",
    "a23 = np.random.rand(3)\n",
    "a24 = np.random.choice([\"john\",\"sura\",\"sarun\",\"jack\",\"bell\"],3)\n",
    "a25 = np.random.randint(-10,11,5)\n",
    "\n",
    "print(a21 , a22 , a23 , a24 , a25 , sep=\"\\n\")"
   ]
  },
  {
   "cell_type": "markdown",
   "id": "1b3a640d",
   "metadata": {},
   "source": [
    "### การเข้าถึงสมาชิกของอาร์เรย์"
   ]
  },
  {
   "cell_type": "code",
   "execution_count": 246,
   "id": "14e4453f",
   "metadata": {},
   "outputs": [
    {
     "name": "stdout",
     "output_type": "stream",
     "text": [
      "2 13 7\n",
      "7 13 2\n"
     ]
    }
   ],
   "source": [
    "b = np.array([2,13,7] , dtype=\"int\")\n",
    "print(b[0],b[1],b[2])\n",
    "print(b[-1],b[-2],b[-3])"
   ]
  },
  {
   "cell_type": "markdown",
   "id": "b179e469",
   "metadata": {},
   "source": [
    "### Index Slicing"
   ]
  },
  {
   "cell_type": "code",
   "execution_count": 252,
   "id": "f7c1ccb5",
   "metadata": {},
   "outputs": [
    {
     "name": "stdout",
     "output_type": "stream",
     "text": [
      "[ 1  2  3  4  5  6  7  8  9 10]\n",
      "[1 2 3 4 5 6 7 8 9]\n",
      "[3 4 5]\n",
      "[ 2  4  6  8 10]\n",
      "[1 2 3 4 5 6 7 8 9]\n",
      "[8 7 6 5 4 3]\n"
     ]
    }
   ],
   "source": [
    "c = np.array([1,2,3,4,5,6,7,8,9,10])\n",
    "print(c[0:])\n",
    "print(c[:9])\n",
    "print(c[2:5])\n",
    "print(c[1:10:2])\n",
    "print(c[-10:-1])\n",
    "print(c[-3:-9:-1])"
   ]
  },
  {
   "cell_type": "markdown",
   "id": "64a51cb6",
   "metadata": {},
   "source": [
    "### Fancy Indexing"
   ]
  },
  {
   "cell_type": "code",
   "execution_count": 10,
   "id": "88826f75",
   "metadata": {},
   "outputs": [
    {
     "name": "stdout",
     "output_type": "stream",
     "text": [
      "[1 3 5]\n",
      "[10  7  5]\n"
     ]
    }
   ],
   "source": [
    "d = np.array([1,2,3,4,5,6,7,8,9,10])\n",
    "fancy1 = [0,2,4]\n",
    "fancy2 = [-1,-4,-6]\n",
    "\n",
    "print(d[fancy1])\n",
    "print(d[fancy2])"
   ]
  },
  {
   "cell_type": "markdown",
   "id": "e9dd7145",
   "metadata": {},
   "source": [
    "### จัดการอาร์เรย์ด้วยโอเปอเรเตอร์ทางคณิตศาสตร์\n",
    "- สามารถดำเนินการระหว่างอาเรย์ได้เลย แต่อาเรย์ทั้งสองอันต้องมีสมาชิกเท่ากัน\n",
    "- ดำเนินการสมาชิกบางส่วน\n",
    "- ทำการกรองข้อมูลตามเงื่อนไข"
   ]
  },
  {
   "cell_type": "code",
   "execution_count": 253,
   "id": "665747c6",
   "metadata": {},
   "outputs": [
    {
     "name": "stdout",
     "output_type": "stream",
     "text": [
      "[16 35 19  8 31]\n",
      "[40 43 37 20 17]\n",
      "----------------------\n",
      "[26 45 29 18 41]\n",
      "----------------------\n",
      "[-24  -8 -18 -12  14]\n",
      "----------------------\n",
      "[32 70 38]\n",
      "[37 10]\n",
      "[24 36]\n",
      "----------------------\n",
      "[35 31]\n",
      "[8]\n"
     ]
    }
   ],
   "source": [
    "e = np.random.randint(1,50,5)\n",
    "f = np.random.randint(1,50,5)\n",
    "\n",
    "print(e)\n",
    "print(f)\n",
    "print(\"----------------------\")\n",
    "\n",
    "g1 = e + 10\n",
    "print(g1)\n",
    "print(\"----------------------\")\n",
    "\n",
    "g2 = e - f\n",
    "print(g2)\n",
    "print(\"----------------------\")\n",
    "\n",
    "g3 = e[:3] * 2\n",
    "g4 = e[1:5:2] + 2\n",
    "g5 = e[[2,4]] + 5\n",
    "print(g3,g4,g5,sep=\"\\n\")\n",
    "print(\"----------------------\")\n",
    "\n",
    "g6 = e[(e > 20) | (e % 5 == 0)]\n",
    "g7 = e[(e >= 5) & (e <= 15 )]\n",
    "\n",
    "print(g6,g7,sep=\"\\n\")\n"
   ]
  },
  {
   "cell_type": "markdown",
   "id": "51f1d9bf",
   "metadata": {},
   "source": [
    "### การร้างอาร์เรย์แบบ 2 มิติ\n",
    "- กำหนดแบบ **แถว** และ **คอลัมน์** เหมือน matrix"
   ]
  },
  {
   "cell_type": "code",
   "execution_count": 256,
   "id": "d999af2f",
   "metadata": {},
   "outputs": [
    {
     "name": "stdout",
     "output_type": "stream",
     "text": [
      "[[10 20 30]\n",
      " [40 50 60]\n",
      " [10 20 30]]\n",
      "\n",
      "[[1 2 3]\n",
      " [4 5 6]\n",
      " [7 8 9]]\n",
      "\n",
      "[[1 1 1]\n",
      " [1 1 1]\n",
      " [1 1 1]]\n",
      "\n",
      "[[0 0 0]\n",
      " [0 0 0]\n",
      " [0 0 0]]\n",
      "\n",
      "[[10 10 10]\n",
      " [10 10 10]\n",
      " [10 10 10]]\n",
      "\n",
      "[[13  1 17]\n",
      " [10  3 19]\n",
      " [ 7  7 20]]\n",
      "\n",
      "[[ 2.62496745  9.08548677  2.59158089]\n",
      " [20.04045556  1.48601764 17.70663195]\n",
      " [17.05718966  7.32724345 13.57555595]]\n",
      "\n",
      "[[0.44177889 0.23216739 0.13130969]\n",
      " [0.16311201 0.78798793 0.88716969]\n",
      " [0.75346982 0.84006423 0.00306145]]\n",
      "\n",
      "[[3 2 5]\n",
      " [5 5 5]\n",
      " [4 1 5]]\n"
     ]
    }
   ],
   "source": [
    "h1 = np.array([[10,20,30],\n",
    "              [40,50,60],\n",
    "              [10,20,30]])\n",
    "\n",
    "list1 = [[1,2,3],[4,5,6],[7,8,9]]\n",
    "h2 = np.array(list1)\n",
    "\n",
    "h3 = np.ones([3,3],dtype=\"int\")\n",
    "h4 = np.zeros([3,3],dtype=\"int\")\n",
    "h5 = np.full([3,3],10)\n",
    "h6 = np.random.randint(1,21,[3,3])\n",
    "h7 = np.random.uniform(1,21,[3,3])\n",
    "h8 = np.random.rand(3,3)\n",
    "h9 = np.random.choice([1,2,3,4,5],[3,3])\n",
    "\n",
    "print(h1,h2,h3,h4,h5,h6,h7,h8,h9,sep=\"\\n\\n\")"
   ]
  },
  {
   "cell_type": "markdown",
   "id": "c8f11af7",
   "metadata": {},
   "source": [
    "### การเข้าถึงอาร์เรย์แบบ 2 มิติ"
   ]
  },
  {
   "cell_type": "code",
   "execution_count": 262,
   "id": "28a348a7",
   "metadata": {},
   "outputs": [
    {
     "name": "stdout",
     "output_type": "stream",
     "text": [
      "[[33 35 25 27 21]\n",
      " [24 22 30 43 48]\n",
      " [46 41 23 22 38]\n",
      " [30 31 26 49 34]\n",
      " [44 30 35 45 28]]\n",
      "\n",
      "[33 35 25 27 21]\n",
      "[24 22 30 43 48]\n",
      "33\n",
      "28\n",
      "26\n",
      "[[22 30 43 48]\n",
      " [41 23 22 38]]\n",
      "\n",
      "[[33 25 21]\n",
      " [24 30 48]\n",
      " [46 23 38]\n",
      " [30 26 34]\n",
      " [44 35 28]]\n"
     ]
    }
   ],
   "source": [
    "j = np.random.randint(20,51,[5,5])\n",
    "print(j,end=\"\\n\\n\")\n",
    "print(j[0])\n",
    "print(j[1])\n",
    "print(j[0,0])\n",
    "print(j[4,4])\n",
    "print(j[3,2])\n",
    "\n",
    "\n",
    "print(j[1:3,1:5] , j[:,::2] , sep=\"\\n\\n\")"
   ]
  },
  {
   "cell_type": "markdown",
   "id": "fa9d663a",
   "metadata": {},
   "source": [
    "### การจัดการอาร์เรย์ 2 มิติด้วยโอเปอเรเตอร์\n",
    "- สามารถดำเนินการระหว่างอาเรย์ได้เลย แต่อาเรย์ทั้งสองต้องมีแถวและคอลัมน์เท่ากัน\n",
    "- ทำการกรองข้อมูลตามเงื่อนไข แต่จะได้เป็นอาเรย์มิติเดียว"
   ]
  },
  {
   "cell_type": "code",
   "execution_count": 14,
   "id": "d9a75790",
   "metadata": {},
   "outputs": [
    {
     "name": "stdout",
     "output_type": "stream",
     "text": [
      "[[11 14 14]\n",
      " [18 13 17]\n",
      " [17 13 11]]\n",
      "\n",
      "[[19 10 17]\n",
      " [20 16 18]\n",
      " [15 18 16]]\n",
      "\n",
      "[[21 24 24]\n",
      " [28 23 27]\n",
      " [27 23 21]]\n",
      "\n",
      "[[ 6  9  9]\n",
      " [13  8 12]\n",
      " [12  8  6]]\n",
      "\n",
      "[[30 24 31]\n",
      " [38 29 35]\n",
      " [32 31 27]]\n",
      "--------------------\n",
      "[18 17 17]\n",
      "\n",
      "[11 14 14 13 13 11]\n"
     ]
    }
   ],
   "source": [
    "k = np.random.randint(10,21,[3,3])\n",
    "l = np.random.randint(10,21,[3,3])\n",
    "\n",
    "print(k,l,k+10,k-5,k+l,sep=\"\\n\\n\")\n",
    "print(\"--------------------\")\n",
    "\n",
    "m1 = k[k > 15]\n",
    "m2 = k[(k > 10) & (k < 15)]\n",
    "\n",
    "print(m1,m2,sep=\"\\n\\n\")"
   ]
  },
  {
   "cell_type": "markdown",
   "id": "33ac7c03",
   "metadata": {},
   "source": [
    "### Universal Function ของ Numpy\n",
    "axis = 0 แถวตั้ง\n",
    "axis = 1 แถวนอน"
   ]
  },
  {
   "cell_type": "markdown",
   "id": "20fb2793",
   "metadata": {},
   "source": [
    "- **sum**\n",
    "    - หาผลรวมของสมาชิก"
   ]
  },
  {
   "cell_type": "code",
   "execution_count": 263,
   "id": "1934e26f",
   "metadata": {},
   "outputs": [
    {
     "name": "stdout",
     "output_type": "stream",
     "text": [
      "25\n"
     ]
    }
   ],
   "source": [
    "n1 = np.array([1,3,5,7,9])\n",
    "n2 = np.sum(n1)\n",
    "print(n2)"
   ]
  },
  {
   "cell_type": "code",
   "execution_count": 265,
   "id": "a32dd38d",
   "metadata": {},
   "outputs": [
    {
     "name": "stdout",
     "output_type": "stream",
     "text": [
      "[[11 14  5]\n",
      " [12  7 19]\n",
      " [18  6  3]]\n",
      "\n",
      "[41 27 27]\n",
      "\n",
      "[30 38 27]\n",
      "\n",
      "95\n"
     ]
    }
   ],
   "source": [
    "n3 = np.random.randint(1,20,[3,3])\n",
    "n4 = np.sum(n3,axis=0)\n",
    "n5 = np.sum(n3,axis=1)\n",
    "n6 = np.sum(n3)\n",
    "print(n3,end=\"\\n\\n\")\n",
    "print(n4,n5,n6,sep=\"\\n\\n\")"
   ]
  },
  {
   "cell_type": "markdown",
   "id": "cee43bfa",
   "metadata": {},
   "source": [
    "- **cumsum**\n",
    "    - หาผลบวกสะสมของสมาชิก"
   ]
  },
  {
   "cell_type": "code",
   "execution_count": 266,
   "id": "97756a28",
   "metadata": {},
   "outputs": [
    {
     "name": "stdout",
     "output_type": "stream",
     "text": [
      "[10 15 20 25]\n",
      "[10 25 45 70]\n"
     ]
    }
   ],
   "source": [
    "n7 = np.array([10,15,20,25])\n",
    "n8 = np.cumsum(n7)\n",
    "print(n7)\n",
    "print(n8)"
   ]
  },
  {
   "cell_type": "code",
   "execution_count": 18,
   "id": "793ab4e2",
   "metadata": {},
   "outputs": [
    {
     "name": "stdout",
     "output_type": "stream",
     "text": [
      "[[ 4 14 10]\n",
      " [ 2  7  9]\n",
      " [ 4  2  7]]\n",
      "\n",
      "[[ 4 14 10]\n",
      " [ 6 21 19]\n",
      " [10 23 26]]\n",
      "\n",
      "[[ 4 18 28]\n",
      " [ 2  9 18]\n",
      " [ 4  6 13]]\n",
      "\n",
      "[ 4 18 28 30 37 46 50 52 59]\n"
     ]
    }
   ],
   "source": [
    "n9 = np.random.randint(1,20,[3,3])\n",
    "n10 = np.cumsum(n9,axis=0)\n",
    "n11 = np.cumsum(n9,axis=1)\n",
    "n12 = np.cumsum(n9)\n",
    "print(n9,end=\"\\n\\n\")\n",
    "print(n10,n11,n12,sep=\"\\n\\n\")"
   ]
  },
  {
   "cell_type": "markdown",
   "id": "9dae09f1",
   "metadata": {},
   "source": [
    "- **mean**\n",
    "    - หาค่าเฉลี่ยของสมาชิก"
   ]
  },
  {
   "cell_type": "code",
   "execution_count": 267,
   "id": "a4b652be",
   "metadata": {},
   "outputs": [
    {
     "name": "stdout",
     "output_type": "stream",
     "text": [
      "[ 5 10 15 30]\n",
      "15.0\n"
     ]
    }
   ],
   "source": [
    "n13 = np.array([5,10,15,30])\n",
    "n14 = np.mean(n13)\n",
    "print(n13)\n",
    "print(n14)"
   ]
  },
  {
   "cell_type": "code",
   "execution_count": 23,
   "id": "f52b029a",
   "metadata": {},
   "outputs": [
    {
     "name": "stdout",
     "output_type": "stream",
     "text": [
      "[[ 5  5 13]\n",
      " [12 11 10]\n",
      " [13  3 16]]\n",
      "\n",
      "[10.          6.33333333 13.        ]\n",
      "\n",
      "[ 7.66666667 11.         10.66666667]\n",
      "\n",
      "9.777777777777779\n"
     ]
    }
   ],
   "source": [
    "n15 = np.random.randint(1,20,[3,3])\n",
    "n16 = np.mean(n15,axis=0)\n",
    "n17 = np.mean(n15,axis=1)\n",
    "n18 = np.mean(n15)\n",
    "print(n15,end=\"\\n\\n\")\n",
    "print(n16,n17,n18,sep=\"\\n\\n\")"
   ]
  },
  {
   "cell_type": "markdown",
   "id": "c84f021e",
   "metadata": {},
   "source": [
    "- **min**\n",
    "    - หาค่าต่ำสุดของสมาชิก\n",
    "- **max**\n",
    "    - หาค่าสูงสุดของสมาชิก"
   ]
  },
  {
   "cell_type": "code",
   "execution_count": 270,
   "id": "8fe752be",
   "metadata": {},
   "outputs": [
    {
     "name": "stdout",
     "output_type": "stream",
     "text": [
      "[7 6 4 9 2]\n",
      "2\n",
      "9\n"
     ]
    }
   ],
   "source": [
    "n19 = np.random.randint(1,10,5)\n",
    "n20 = np.min(n19)\n",
    "n21 = np.max(n19)\n",
    "print(n19,n20,n21,sep=\"\\n\")"
   ]
  },
  {
   "cell_type": "code",
   "execution_count": 271,
   "id": "c7ff7414",
   "metadata": {},
   "outputs": [
    {
     "name": "stdout",
     "output_type": "stream",
     "text": [
      "[[15 13 15]\n",
      " [19  8  4]\n",
      " [ 5 11 17]]\n",
      "\n",
      "[5 8 4]\n",
      "\n",
      "[13  4  5]\n",
      "\n",
      "[19 13 17]\n",
      "\n",
      "[15 19 17]\n",
      "\n",
      "4\n",
      "\n",
      "19\n"
     ]
    }
   ],
   "source": [
    "n22 = np.random.randint(1,20,[3,3])\n",
    "n23 = np.min(n22,axis=0)\n",
    "n24 = np.min(n22,axis=1)\n",
    "n25 = np.max(n22,axis=0)\n",
    "n26 = np.max(n22,axis=1)\n",
    "n27 = np.min(n22)\n",
    "n28 = np.max(n22)\n",
    "print(n22,n23,n24,n25,n26,n27,n28,sep=\"\\n\\n\")"
   ]
  },
  {
   "cell_type": "markdown",
   "id": "84c377c1",
   "metadata": {},
   "source": [
    "- **sort**\n",
    "    - เรียงลำดับจากน้อยไปมาก ควรระบุแนวแกน(axis)ทุกครั้ง"
   ]
  },
  {
   "cell_type": "code",
   "execution_count": 272,
   "id": "fb8aa0f0",
   "metadata": {},
   "outputs": [
    {
     "name": "stdout",
     "output_type": "stream",
     "text": [
      "[20 18 16 14 12 10  8  6  4  2]\n",
      "[ 2  4  6  8 10 12 14 16 18 20]\n"
     ]
    }
   ],
   "source": [
    "n29 = np.arange(20,1,-2)\n",
    "n30 = np.sort(n29)\n",
    "print(n29,n30,sep=\"\\n\")"
   ]
  },
  {
   "cell_type": "code",
   "execution_count": 89,
   "id": "d704282a",
   "metadata": {},
   "outputs": [
    {
     "name": "stdout",
     "output_type": "stream",
     "text": [
      "[[ 4 13 10]\n",
      " [ 3  1 11]\n",
      " [18  6 17]]\n",
      "\n",
      "[[ 3  1 10]\n",
      " [ 4  6 11]\n",
      " [18 13 17]]\n",
      "\n",
      "[[ 4 10 13]\n",
      " [ 1  3 11]\n",
      " [ 6 17 18]]\n"
     ]
    }
   ],
   "source": [
    "n31 = np.random.randint(1,20,[3,3])\n",
    "n32 = np.sort(n31,axis=0)\n",
    "n33 = np.sort(n31,axis=1)\n",
    "\n",
    "print(n31,n32,n33,sep=\"\\n\\n\")"
   ]
  },
  {
   "cell_type": "markdown",
   "id": "74bf2561",
   "metadata": {},
   "source": [
    "- **unique**\n",
    "    - ไม่ต้องกำหนด axis"
   ]
  },
  {
   "cell_type": "code",
   "execution_count": 94,
   "id": "9e2d5538",
   "metadata": {},
   "outputs": [
    {
     "name": "stdout",
     "output_type": "stream",
     "text": [
      "[2 5 1 4 4 3 5 1 1 3]\n",
      "\n",
      "[1 2 3 4 5]\n",
      "\n",
      "[[ 2 20  5 10]\n",
      " [20 13  1 14]\n",
      " [ 8 20  4 14]\n",
      " [ 2 16 13 18]]\n",
      "\n",
      "[ 1  2  4  5  8 10 13 14 16 18 20]\n"
     ]
    }
   ],
   "source": [
    "n34 = np.random.choice([1,2,3,4,5],10)\n",
    "n35 = np.unique(n34)\n",
    "\n",
    "n36 = np.random.randint(1,21,[4,4])\n",
    "n37 = np.unique(n36)\n",
    "\n",
    "print(n34,n35,n36,n37,sep=\"\\n\\n\")\n"
   ]
  },
  {
   "cell_type": "markdown",
   "id": "959b9f9b",
   "metadata": {},
   "source": [
    "- **concatenate** (นำสมาชิกของอาเรย์สองอาเรย์มาผนวกเป็นสมาชิกเดียวกัน)\n",
    "    - ถ้าอาเรย์เป็นคนละชนิด เช่น int กับ float อาเรย์จะถูกแปลงเป็นชนิด float"
   ]
  },
  {
   "cell_type": "code",
   "execution_count": 109,
   "id": "d8acfe69",
   "metadata": {},
   "outputs": [
    {
     "name": "stdout",
     "output_type": "stream",
     "text": [
      "[ 1  2  3  4  5  6  7  8  9 10]\n",
      "\n",
      "[[4 1]\n",
      " [9 5]]\n",
      "\n",
      "[[11.54200713 16.53187132]\n",
      " [14.99562159 17.92414994]]\n",
      "\n",
      "[[ 4.          1.        ]\n",
      " [ 9.          5.        ]\n",
      " [11.54200713 16.53187132]\n",
      " [14.99562159 17.92414994]]\n"
     ]
    }
   ],
   "source": [
    "n38 = np.array([1,2,3,4,5])\n",
    "n39 = np.array([6,7,8,9,10])\n",
    "n40 = np.concatenate([n38,n39])\n",
    "\n",
    "n41 = np.random.randint(1,10,[2,2])\n",
    "n42 = np.random.uniform(11,20,[2,2])\n",
    "n43 = np.concatenate([n41,n42])\n",
    "\n",
    "print(n40,n41,n42,n43,sep=\"\\n\\n\")"
   ]
  },
  {
   "cell_type": "markdown",
   "id": "100a8303",
   "metadata": {},
   "source": [
    "- **vstack**\n",
    "    - ผนวกอาเรย์ซ้อนกันในแนวตั้ง\n",
    "    - ใช้ได้กับอาเรย์ที่มีขนาดเดียวกันเท่านั้น\n",
    "- **hstack**\n",
    "    - ผนวกอาเรย์ซ้อนกันในแนวนอน\n",
    "    - ใช้ได้กับอาเรย์ที่มีขนาดเดียวกันเท่านั้น\n",
    "    "
   ]
  },
  {
   "cell_type": "code",
   "execution_count": 115,
   "id": "ba3ccbdc",
   "metadata": {},
   "outputs": [
    {
     "name": "stdout",
     "output_type": "stream",
     "text": [
      "[[1 2 3 4]\n",
      " [6 7 8 9]]\n",
      "\n",
      "[1 2 3 4 6 7 8 9]\n",
      "\n",
      "[[5 5]\n",
      " [5 5]]\n",
      "\n",
      "[[9 9]\n",
      " [9 9]]\n",
      "\n",
      "[[5 5]\n",
      " [5 5]\n",
      " [9 9]\n",
      " [9 9]]\n",
      "\n",
      "[[5 5 9 9]\n",
      " [5 5 9 9]]\n"
     ]
    }
   ],
   "source": [
    "n44 = np.array([1,2,3,4])\n",
    "n45 = np.array([6,7,8,9])\n",
    "n46 = np.vstack([n44,n45])\n",
    "n47 = np.hstack([n44,n45])\n",
    "\n",
    "n48 = np.full([2,2],5)\n",
    "n49 = np.full([2,2],9)\n",
    "n50 = np.vstack([n48,n49])\n",
    "n51 = np.hstack([n48,n49])\n",
    "\n",
    "print(n46,n47,n48,n49,n50,n51,sep=\"\\n\\n\")"
   ]
  },
  {
   "cell_type": "markdown",
   "id": "508f3bb9",
   "metadata": {},
   "source": [
    "- **view**\n",
    "    - เป็นการคัดลอกแบบ shallow copy ถ้าหากเปลี่ยนแปลงสมาชิกอาเรย์หนึ่ง จะส่งผลให้อีกอาเรย์หนึ่งเปลี่ยนแปลงไปด้วย"
   ]
  },
  {
   "cell_type": "code",
   "execution_count": 167,
   "id": "fc3f367c",
   "metadata": {},
   "outputs": [
    {
     "name": "stdout",
     "output_type": "stream",
     "text": [
      "[[100 100 100]\n",
      " [200 200 200]\n",
      " [  9   9   3]]\n",
      "\n",
      "[[100 100 100]\n",
      " [200 200 200]\n",
      " [  9   9   3]]\n"
     ]
    }
   ],
   "source": [
    "n51 = np.random.randint(1,10,[3,3])\n",
    "n52 = n51.view()\n",
    "\n",
    "n51[0] = 100\n",
    "n52[1] = 200\n",
    "print(n51,n52,sep=\"\\n\\n\")"
   ]
  },
  {
   "cell_type": "markdown",
   "id": "048ab7f0",
   "metadata": {},
   "source": [
    "- **copy**\n",
    "    - เป็นการคัดลอกแบบ deep copy ถ้าหากเปลี่ยนแปลงสมาชิกอาเรย์หนึ่ง จะไม่ส่งผลให้อาเรย์ที่คัดลอกเปลี่ยนแปลงตาม"
   ]
  },
  {
   "cell_type": "code",
   "execution_count": 168,
   "id": "8fb33d63",
   "metadata": {},
   "outputs": [
    {
     "name": "stdout",
     "output_type": "stream",
     "text": [
      "[[100 100 100]\n",
      " [ 30  30  30]\n",
      " [  1   2   2]]\n",
      "\n",
      "[[1 1 5]\n",
      " [6 2 3]\n",
      " [1 2 2]]\n"
     ]
    }
   ],
   "source": [
    "n53 = np.random.randint(1,10,[3,3])\n",
    "n54 = n53.copy()\n",
    "\n",
    "n53[0] = 100\n",
    "n53[1] = 30\n",
    "print(n53,n54,sep=\"\\n\\n\")"
   ]
  },
  {
   "cell_type": "markdown",
   "id": "b118891d",
   "metadata": {},
   "source": [
    "- **reshape**\n",
    "    - สามารถเปลี่ยนขนาดของอาเรย์ เช่น 6x4 เป็น 3x8\n",
    "    - สามารถแก้ไขจากอาเรย์มิติเดียว ให้เป็นสองมิติก็ได้\n",
    "    - อาเรย์ใหม่ต้องมีสมาชิกเท่ากับอาเรย์เดิม และหากมีการเปลี่ยนแปลงค่าสมาชิกของอาเรย์หนึ่ง จะส่งผลต่ออีกอาเรย์หนึ่งด้วย"
   ]
  },
  {
   "cell_type": "code",
   "execution_count": 189,
   "id": "353fb484",
   "metadata": {},
   "outputs": [
    {
     "name": "stdout",
     "output_type": "stream",
     "text": [
      "[20 21 22 23 24 25 26 27 28 29 30 31 32 33 34 35]\n",
      "\n",
      "[[20 21 22 23]\n",
      " [24 25 26 27]\n",
      " [28 29 30 31]\n",
      " [32 33 34 35]]\n",
      "\n",
      "[[100 200   7   5]\n",
      " [ 14   4  19  18]\n",
      " [ 18   5  19   5]]\n",
      "\n",
      "[[100 200   7]\n",
      " [  5  14   4]\n",
      " [ 19  18  18]\n",
      " [  5  19   5]]\n"
     ]
    }
   ],
   "source": [
    "n55 = np.arange(20,36)\n",
    "n56 = np.reshape(n55,[4,4]) # n56 = np.arange(20,36).reshape([4,4])\n",
    "\n",
    "n57 = np.random.randint(1,20,[3,4])\n",
    "n58 = np.reshape(n57,(4,3))\n",
    "\n",
    "n57[0,0] = 100\n",
    "n58[0,1] = 200\n",
    "\n",
    "print(n55,n56,n57,n58,sep=\"\\n\\n\")"
   ]
  },
  {
   "cell_type": "markdown",
   "id": "9eb41b35",
   "metadata": {},
   "source": [
    "**เพิ่มเติม reshape**\n",
    " - การระบุจำนวนแถว หรือ คอลัมน์ อย่างใดอย่างหนึ่ง โดยการกำหนดให้เป็น -1 มีความหมายคือถ้ากำหนด -1 ไปคือการให้ numpy ไปคำนวณจำนวนแถวหรือคอลัมน์นั้นเอง\n",
    "    "
   ]
  },
  {
   "cell_type": "code",
   "execution_count": 208,
   "id": "5f13d3ed",
   "metadata": {},
   "outputs": [
    {
     "name": "stdout",
     "output_type": "stream",
     "text": [
      "[ 1  2  3  4  5  6  7  8  9 10 11 12]\n",
      "\n",
      "[[ 1  2  3]\n",
      " [ 4  5  6]\n",
      " [ 7  8  9]\n",
      " [10 11 12]]\n",
      "\n",
      "[[ 1  2  3  4  5  6]\n",
      " [ 7  8  9 10 11 12]]\n"
     ]
    }
   ],
   "source": [
    "n59 = np.arange(1,13)\n",
    "n60 = np.reshape(n59,[-1,3]) # [3,3]\n",
    "n61 = np.reshape(n59,[2,-1]) # [2,6]\n",
    "print(n59,n60,n61,sep=\"\\n\\n\")"
   ]
  },
  {
   "cell_type": "markdown",
   "id": "7a474ee9",
   "metadata": {},
   "source": [
    "- **resize**\n",
    "    - สามารถเปลี่ยนขนาดของอาเรย์ เช่น 6x4 เป็น 3x8\n",
    "    - สามารถแก้ไขจากอาเรย์มิติเดียว ให้เป็นสองมิติก็ได้\n",
    "    - อาเรย์ใหม่ต้องมีสมาชิกเท่ากับอาเรย์เดิม และหากมีการเปลี่ยนแปลงค่าสมาชิกของอาเรย์หนึ่ง จะไม่ส่งผลต่ออีกอาเรย์หนึ่ง"
   ]
  },
  {
   "cell_type": "code",
   "execution_count": 240,
   "id": "998598d7",
   "metadata": {},
   "outputs": [
    {
     "name": "stdout",
     "output_type": "stream",
     "text": [
      "[20 21 22 23 24 25]\n",
      "\n",
      "[[20 21]\n",
      " [22 23]\n",
      " [24 25]]\n",
      "\n",
      "[[100  19   8  11]\n",
      " [ 12  14   9  11]\n",
      " [  3   4   9   7]]\n",
      "\n",
      "[[  6 200   8]\n",
      " [ 11  12  14]\n",
      " [  9  11   3]\n",
      " [  4   9   7]]\n"
     ]
    }
   ],
   "source": [
    "n62 = np.arange(20,26)\n",
    "n63 = np.resize(n62,[3,2])\n",
    "\n",
    "n64 = np.random.randint(1,20,[3,4])\n",
    "n65 = np.resize(n64,[4,3])\n",
    "\n",
    "n64[0,0] = 100\n",
    "n65[0,1] = 200\n",
    "\n",
    "print(n62,n63,n64,n65,sep=\"\\n\\n\")"
   ]
  }
 ],
 "metadata": {
  "kernelspec": {
   "display_name": "Python 3.9.12 ('base')",
   "language": "python",
   "name": "python3"
  },
  "language_info": {
   "codemirror_mode": {
    "name": "ipython",
    "version": 3
   },
   "file_extension": ".py",
   "mimetype": "text/x-python",
   "name": "python",
   "nbconvert_exporter": "python",
   "pygments_lexer": "ipython3",
   "version": "3.9.12"
  },
  "vscode": {
   "interpreter": {
    "hash": "f08154012ddadd8e950e6e9e035c7a7b32c136e7647e9b7c77e02eb723a8bedb"
   }
  }
 },
 "nbformat": 4,
 "nbformat_minor": 5
}
